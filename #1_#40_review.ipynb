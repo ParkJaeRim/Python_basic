{
  "nbformat": 4,
  "nbformat_minor": 0,
  "metadata": {
    "colab": {
      "name": "Untitled2.ipynb",
      "version": "0.3.2",
      "views": {},
      "default_view": {},
      "provenance": []
    },
    "kernelspec": {
      "name": "python3",
      "display_name": "Python 3"
    }
  },
  "cells": [
    {
      "metadata": {
        "id": "hnfnGN592ImJ",
        "colab_type": "code",
        "colab": {
          "autoexec": {
            "startup": false,
            "wait_interval": 0
          }
        }
      },
      "cell_type": "code",
      "source": [
        "#19\n",
        "t1 = 'python'\n",
        "t2 = 'java'"
      ],
      "execution_count": 0,
      "outputs": []
    },
    {
      "metadata": {
        "id": "x49X-k2z2PI3",
        "colab_type": "code",
        "colab": {
          "autoexec": {
            "startup": false,
            "wait_interval": 0
          },
          "base_uri": "https://localhost:8080/",
          "height": 35
        },
        "outputId": "034b408c-59aa-4245-a4e1-421542feaf7f",
        "executionInfo": {
          "status": "ok",
          "timestamp": 1523857219210,
          "user_tz": -540,
          "elapsed": 582,
          "user": {
            "displayName": "박재림",
            "photoUrl": "https://lh3.googleusercontent.com/a/default-user=s128",
            "userId": "107675001875083793552"
          }
        }
      },
      "cell_type": "code",
      "source": [
        "print((t1+' '+t2+' ')*5)"
      ],
      "execution_count": 2,
      "outputs": [
        {
          "output_type": "stream",
          "text": [
            "python java python java python java python java python java \n"
          ],
          "name": "stdout"
        }
      ]
    },
    {
      "metadata": {
        "id": "9alhpaPZ2qgJ",
        "colab_type": "code",
        "colab": {
          "autoexec": {
            "startup": false,
            "wait_interval": 0
          },
          "base_uri": "https://localhost:8080/",
          "height": 35
        },
        "outputId": "1931b401-8900-42f9-f51a-a25200f12010",
        "executionInfo": {
          "status": "ok",
          "timestamp": 1523857221203,
          "user_tz": -540,
          "elapsed": 593,
          "user": {
            "displayName": "박재림",
            "photoUrl": "https://lh3.googleusercontent.com/a/default-user=s128",
            "userId": "107675001875083793552"
          }
        }
      },
      "cell_type": "code",
      "source": [
        "#26\n",
        "lang='python'\n",
        "b=lang.replace('p','P')\n",
        "print(b)\n"
      ],
      "execution_count": 3,
      "outputs": [
        {
          "output_type": "stream",
          "text": [
            "Python\n"
          ],
          "name": "stdout"
        }
      ]
    },
    {
      "metadata": {
        "id": "tUMkNeeW07CQ",
        "colab_type": "code",
        "colab": {
          "autoexec": {
            "startup": false,
            "wait_interval": 0
          },
          "base_uri": "https://localhost:8080/",
          "height": 208
        },
        "outputId": "fad2f82c-4382-44de-f32e-ecfb95874d69",
        "executionInfo": {
          "status": "error",
          "timestamp": 1523857224229,
          "user_tz": -540,
          "elapsed": 754,
          "user": {
            "displayName": "박재림",
            "photoUrl": "https://lh3.googleusercontent.com/a/default-user=s128",
            "userId": "107675001875083793552"
          }
        }
      },
      "cell_type": "code",
      "source": [
        "#27 \n",
        "#wrong\n",
        "lang2='python'\n",
        "lang2[0]='P'\n",
        "print(lang2)"
      ],
      "execution_count": 4,
      "outputs": [
        {
          "output_type": "error",
          "ename": "TypeError",
          "evalue": "ignored",
          "traceback": [
            "\u001b[0;31m---------------------------------------------------------------------------\u001b[0m",
            "\u001b[0;31mTypeError\u001b[0m                                 Traceback (most recent call last)",
            "\u001b[0;32m<ipython-input-4-c830bf6b242b>\u001b[0m in \u001b[0;36m<module>\u001b[0;34m()\u001b[0m\n\u001b[1;32m      1\u001b[0m \u001b[0mlang2\u001b[0m\u001b[0;34m=\u001b[0m\u001b[0;34m'python'\u001b[0m\u001b[0;34m\u001b[0m\u001b[0m\n\u001b[0;32m----> 2\u001b[0;31m \u001b[0mlang2\u001b[0m\u001b[0;34m[\u001b[0m\u001b[0;36m0\u001b[0m\u001b[0;34m]\u001b[0m\u001b[0;34m=\u001b[0m\u001b[0;34m'P'\u001b[0m\u001b[0;34m\u001b[0m\u001b[0m\n\u001b[0m\u001b[1;32m      3\u001b[0m \u001b[0mprint\u001b[0m\u001b[0;34m(\u001b[0m\u001b[0mlang2\u001b[0m\u001b[0;34m)\u001b[0m\u001b[0;34m\u001b[0m\u001b[0m\n",
            "\u001b[0;31mTypeError\u001b[0m: 'str' object does not support item assignment"
          ]
        }
      ]
    },
    {
      "metadata": {
        "id": "RN_rr5Fh2XGH",
        "colab_type": "code",
        "colab": {
          "autoexec": {
            "startup": false,
            "wait_interval": 0
          },
          "base_uri": "https://localhost:8080/",
          "height": 53
        },
        "outputId": "d472cfd4-d545-460a-88f4-be3b9d789850",
        "executionInfo": {
          "status": "ok",
          "timestamp": 1523857244651,
          "user_tz": -540,
          "elapsed": 18128,
          "user": {
            "displayName": "박재림",
            "photoUrl": "https://lh3.googleusercontent.com/a/default-user=s128",
            "userId": "107675001875083793552"
          }
        }
      },
      "cell_type": "code",
      "source": [
        "#29\n",
        "hi=str(input(\"address:\"))\n",
        "print(\"domain:\", hi.split(\".\")[2][:3])"
      ],
      "execution_count": 5,
      "outputs": [
        {
          "output_type": "stream",
          "text": [
            "address:http://www.naver.com/hi/hello\n",
            "domain: com\n"
          ],
          "name": "stdout"
        }
      ]
    },
    {
      "metadata": {
        "id": "eSr55eA892S_",
        "colab_type": "code",
        "colab": {
          "autoexec": {
            "startup": false,
            "wait_interval": 0
          },
          "base_uri": "https://localhost:8080/",
          "height": 53
        },
        "outputId": "a5e7fbe4-906b-41e0-d649-b9d26b61b44f",
        "executionInfo": {
          "status": "ok",
          "timestamp": 1523857257262,
          "user_tz": -540,
          "elapsed": 8693,
          "user": {
            "displayName": "박재림",
            "photoUrl": "https://lh3.googleusercontent.com/a/default-user=s128",
            "userId": "107675001875083793552"
          }
        }
      },
      "cell_type": "code",
      "source": [
        "#31\n",
        "filename = input(\"filename: \")\n",
        "print(filename.split('.')[1])"
      ],
      "execution_count": 6,
      "outputs": [
        {
          "output_type": "stream",
          "text": [
            "filename: myfile.docx\n",
            "docx\n"
          ],
          "name": "stdout"
        }
      ]
    },
    {
      "metadata": {
        "id": "p5qX36_j-NQf",
        "colab_type": "code",
        "colab": {
          "autoexec": {
            "startup": false,
            "wait_interval": 0
          }
        }
      },
      "cell_type": "code",
      "source": [
        "#34\n",
        "#wrong"
      ],
      "execution_count": 0,
      "outputs": []
    },
    {
      "metadata": {
        "id": "0tGjh9z235uA",
        "colab_type": "code",
        "colab": {
          "autoexec": {
            "startup": false,
            "wait_interval": 0
          },
          "base_uri": "https://localhost:8080/",
          "height": 53
        },
        "outputId": "5949bb4c-8f5a-4094-af9b-a481dffbfcb0",
        "executionInfo": {
          "status": "ok",
          "timestamp": 1523857275022,
          "user_tz": -540,
          "elapsed": 16052,
          "user": {
            "displayName": "박재림",
            "photoUrl": "https://lh3.googleusercontent.com/a/default-user=s128",
            "userId": "107675001875083793552"
          }
        }
      },
      "cell_type": "code",
      "source": [
        "#37\n",
        "path1=input(\"path:\")\n",
        "print(path1.split(\"\\\\\")[-1])"
      ],
      "execution_count": 7,
      "outputs": [
        {
          "output_type": "stream",
          "text": [
            "path:c:\\\\program files\\\\python\\\\myfile\\\\exercise\n",
            "exercise\n"
          ],
          "name": "stdout"
        }
      ]
    },
    {
      "metadata": {
        "id": "tuGD-eHp4TcB",
        "colab_type": "code",
        "colab": {
          "autoexec": {
            "startup": false,
            "wait_interval": 0
          },
          "base_uri": "https://localhost:8080/",
          "height": 35
        },
        "outputId": "6f0fce6a-70f3-4e92-d5fc-5ef23c5d514b",
        "executionInfo": {
          "status": "ok",
          "timestamp": 1523857277505,
          "user_tz": -540,
          "elapsed": 478,
          "user": {
            "displayName": "박재림",
            "photoUrl": "https://lh3.googleusercontent.com/a/default-user=s128",
            "userId": "107675001875083793552"
          }
        }
      },
      "cell_type": "code",
      "source": [
        "#38\n",
        "text1='spam egg'\n",
        "temp1=text1.split(' ')\n",
        "print(temp1)\n",
        "text1=(temp1[0] + '' + temp1[1])\n"
      ],
      "execution_count": 8,
      "outputs": [
        {
          "output_type": "stream",
          "text": [
            "['spam', 'egg']\n"
          ],
          "name": "stdout"
        }
      ]
    },
    {
      "metadata": {
        "id": "6OGAfVgN7fzV",
        "colab_type": "code",
        "colab": {
          "autoexec": {
            "startup": false,
            "wait_interval": 0
          },
          "base_uri": "https://localhost:8080/",
          "height": 35
        },
        "outputId": "56aae224-5b71-4b84-a744-43c42f8c1f22",
        "executionInfo": {
          "status": "ok",
          "timestamp": 1523857297455,
          "user_tz": -540,
          "elapsed": 590,
          "user": {
            "displayName": "박재림",
            "photoUrl": "https://lh3.googleusercontent.com/a/default-user=s128",
            "userId": "107675001875083793552"
          }
        }
      },
      "cell_type": "code",
      "source": [
        "#39\n",
        "mytext='Python python pYthon java Java'\n",
        "mytext2=mytext.lower()\n",
        "print(mytext2.count('python'))"
      ],
      "execution_count": 11,
      "outputs": [
        {
          "output_type": "stream",
          "text": [
            "3\n"
          ],
          "name": "stdout"
        }
      ]
    },
    {
      "metadata": {
        "id": "97GiO9dA78Hw",
        "colab_type": "code",
        "colab": {
          "autoexec": {
            "startup": false,
            "wait_interval": 0
          }
        }
      },
      "cell_type": "code",
      "source": [
        "#40\n",
        "##wrong"
      ],
      "execution_count": 0,
      "outputs": []
    }
  ]
}