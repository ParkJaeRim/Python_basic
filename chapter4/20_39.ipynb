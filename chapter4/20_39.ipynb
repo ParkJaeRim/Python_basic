{
  "nbformat": 4,
  "nbformat_minor": 0,
  "metadata": {
    "colab": {
      "name": "20_39.ipynb",
      "version": "0.3.2",
      "views": {},
      "default_view": {},
      "provenance": []
    },
    "kernelspec": {
      "name": "python3",
      "display_name": "Python 3"
    }
  },
  "cells": [
    {
      "metadata": {
        "id": "jMJ_dQbuc8bi",
        "colab_type": "code",
        "colab": {
          "autoexec": {
            "startup": false,
            "wait_interval": 0
          }
        }
      },
      "cell_type": "code",
      "source": [
        "#20\n",
        "dong = ['201동', '202동', '203동']\n",
        "room = ['101호', '102호', '201호', '202호', '301호', '302호', '401호', '402호']"
      ],
      "execution_count": 0,
      "outputs": []
    },
    {
      "metadata": {
        "id": "3sm75PokdYUZ",
        "colab_type": "code",
        "colab": {
          "autoexec": {
            "startup": false,
            "wait_interval": 0
          },
          "base_uri": "https://localhost:8080/",
          "height": 55
        },
        "outputId": "3a42a24c-d8de-48f0-bbc6-8bbe830d89f1",
        "executionInfo": {
          "status": "ok",
          "timestamp": 1526199707585,
          "user_tz": -540,
          "elapsed": 797,
          "user": {
            "displayName": "박재림",
            "photoUrl": "https://lh3.googleusercontent.com/a/default-user=s128",
            "userId": "107675001875083793552"
          }
        }
      },
      "cell_type": "code",
      "source": [
        "#21\n",
        "for i in range(0,25):\n",
        "    print(i,' ', end='')"
      ],
      "execution_count": 2,
      "outputs": [
        {
          "output_type": "stream",
          "text": [
            "0  1  2  3  4  5  6  7  8  9  10  11  12  13  14  15  16  17  18  19  20  21  22  23  24  "
          ],
          "name": "stdout"
        }
      ]
    },
    {
      "metadata": {
        "id": "vWG-AlbidmWQ",
        "colab_type": "code",
        "colab": {
          "autoexec": {
            "startup": false,
            "wait_interval": 0
          },
          "base_uri": "https://localhost:8080/",
          "height": 197
        },
        "outputId": "d15455cf-4cfe-40b9-8e4d-417535fbe4e0",
        "executionInfo": {
          "status": "ok",
          "timestamp": 1526199712146,
          "user_tz": -540,
          "elapsed": 1160,
          "user": {
            "displayName": "박재림",
            "photoUrl": "https://lh3.googleusercontent.com/a/default-user=s128",
            "userId": "107675001875083793552"
          }
        }
      },
      "cell_type": "code",
      "source": [
        "#22\n",
        "for i in range(0,25):\n",
        "  print(i, ' ', end='')\n",
        "  if i % 5 == 4:\n",
        "    print('\\n')"
      ],
      "execution_count": 3,
      "outputs": [
        {
          "output_type": "stream",
          "text": [
            "0  1  2  3  4  \n",
            "\n",
            "5  6  7  8  9  \n",
            "\n",
            "10  11  12  13  14  \n",
            "\n",
            "15  16  17  18  19  \n",
            "\n",
            "20  21  22  23  24  \n",
            "\n"
          ],
          "name": "stdout"
        }
      ]
    },
    {
      "metadata": {
        "id": "NB-s1zTjd9Dg",
        "colab_type": "code",
        "colab": {
          "autoexec": {
            "startup": false,
            "wait_interval": 0
          },
          "base_uri": "https://localhost:8080/",
          "height": 179
        },
        "outputId": "78dab63b-9725-4375-fc33-9d51fb69f7dd",
        "executionInfo": {
          "status": "ok",
          "timestamp": 1526199716053,
          "user_tz": -540,
          "elapsed": 1239,
          "user": {
            "displayName": "박재림",
            "photoUrl": "https://lh3.googleusercontent.com/a/default-user=s128",
            "userId": "107675001875083793552"
          }
        }
      },
      "cell_type": "code",
      "source": [
        "#24\n",
        "for i in range (1, 25):\n",
        "    print(i, '',end='')\n",
        "    if i % 5 == 0 :\n",
        "        print('\\n')"
      ],
      "execution_count": 4,
      "outputs": [
        {
          "output_type": "stream",
          "text": [
            "1 2 3 4 5 \n",
            "\n",
            "6 7 8 9 10 \n",
            "\n",
            "11 12 13 14 15 \n",
            "\n",
            "16 17 18 19 20 \n",
            "\n",
            "21 22 23 24 "
          ],
          "name": "stdout"
        }
      ]
    },
    {
      "metadata": {
        "id": "agU2ROSXdet-",
        "colab_type": "code",
        "colab": {
          "autoexec": {
            "startup": false,
            "wait_interval": 0
          }
        }
      },
      "cell_type": "code",
      "source": [
        "#25 틀림\n"
      ],
      "execution_count": 0,
      "outputs": []
    },
    {
      "metadata": {
        "id": "gocSXjWtuLlK",
        "colab_type": "code",
        "colab": {
          "autoexec": {
            "startup": false,
            "wait_interval": 0
          }
        }
      },
      "cell_type": "code",
      "source": [
        "#26 틀림"
      ],
      "execution_count": 0,
      "outputs": []
    },
    {
      "metadata": {
        "id": "DU7BKe9QseyX",
        "colab_type": "code",
        "colab": {
          "autoexec": {
            "startup": false,
            "wait_interval": 0
          },
          "base_uri": "https://localhost:8080/",
          "height": 35
        },
        "outputId": "77382f94-ad91-4c34-aa88-21978099d945",
        "executionInfo": {
          "status": "ok",
          "timestamp": 1526199725916,
          "user_tz": -540,
          "elapsed": 1359,
          "user": {
            "displayName": "박재림",
            "photoUrl": "https://lh3.googleusercontent.com/a/default-user=s128",
            "userId": "107675001875083793552"
          }
        }
      },
      "cell_type": "code",
      "source": [
        "#27\n",
        "for i in range(5):\n",
        "  print('*', end='')"
      ],
      "execution_count": 6,
      "outputs": [
        {
          "output_type": "stream",
          "text": [
            "*****"
          ],
          "name": "stdout"
        }
      ]
    },
    {
      "metadata": {
        "id": "SKkGqBUctlnG",
        "colab_type": "code",
        "colab": {
          "autoexec": {
            "startup": false,
            "wait_interval": 0
          },
          "base_uri": "https://localhost:8080/",
          "height": 71
        },
        "outputId": "40451faa-7a46-49a8-d3a4-1d6fc32032e3",
        "executionInfo": {
          "status": "ok",
          "timestamp": 1526199727551,
          "user_tz": -540,
          "elapsed": 772,
          "user": {
            "displayName": "박재림",
            "photoUrl": "https://lh3.googleusercontent.com/a/default-user=s128",
            "userId": "107675001875083793552"
          }
        }
      },
      "cell_type": "code",
      "source": [
        "#28\n",
        "for i in range(15):\n",
        "  if i % 5 == 0 :\n",
        "    print('*'*5 , \" \")"
      ],
      "execution_count": 7,
      "outputs": [
        {
          "output_type": "stream",
          "text": [
            "*****  \n",
            "*****  \n",
            "*****  \n"
          ],
          "name": "stdout"
        }
      ]
    },
    {
      "metadata": {
        "id": "oyl1iGaGuGk6",
        "colab_type": "code",
        "colab": {
          "autoexec": {
            "startup": false,
            "wait_interval": 0
          },
          "base_uri": "https://localhost:8080/",
          "height": 71
        },
        "outputId": "e2c87cea-98e4-4d42-f5b4-42c8d2e8610a",
        "executionInfo": {
          "status": "ok",
          "timestamp": 1526199729375,
          "user_tz": -540,
          "elapsed": 688,
          "user": {
            "displayName": "박재림",
            "photoUrl": "https://lh3.googleusercontent.com/a/default-user=s128",
            "userId": "107675001875083793552"
          }
        }
      },
      "cell_type": "code",
      "source": [
        "#29\n",
        "for i in range(5):\n",
        "  for j in range(3):\n",
        "      if i / 2 == j :\n",
        "        print('*' * (j+1))\n",
        "  "
      ],
      "execution_count": 8,
      "outputs": [
        {
          "output_type": "stream",
          "text": [
            "*\n",
            "**\n",
            "***\n"
          ],
          "name": "stdout"
        }
      ]
    },
    {
      "metadata": {
        "id": "aVKXhEhuuoxj",
        "colab_type": "code",
        "colab": {
          "autoexec": {
            "startup": false,
            "wait_interval": 0
          },
          "base_uri": "https://localhost:8080/",
          "height": 71
        },
        "outputId": "87bc4afb-a281-4e65-a74b-7827340197a3",
        "executionInfo": {
          "status": "ok",
          "timestamp": 1526199732242,
          "user_tz": -540,
          "elapsed": 920,
          "user": {
            "displayName": "박재림",
            "photoUrl": "https://lh3.googleusercontent.com/a/default-user=s128",
            "userId": "107675001875083793552"
          }
        }
      },
      "cell_type": "code",
      "source": [
        "#30\n",
        "for i in range(5,-1,-1):\n",
        "  for j in range(3):\n",
        "      if i / 2 == j :\n",
        "        print('*' * (j+1))"
      ],
      "execution_count": 9,
      "outputs": [
        {
          "output_type": "stream",
          "text": [
            "***\n",
            "**\n",
            "*\n"
          ],
          "name": "stdout"
        }
      ]
    },
    {
      "metadata": {
        "id": "mdIoAx5NVFB5",
        "colab_type": "code",
        "colab": {
          "autoexec": {
            "startup": false,
            "wait_interval": 0
          },
          "base_uri": "https://localhost:8080/",
          "height": 71
        },
        "outputId": "8b1fe7be-db7d-48bb-edb8-080466f3d0de",
        "executionInfo": {
          "status": "ok",
          "timestamp": 1526199734781,
          "user_tz": -540,
          "elapsed": 757,
          "user": {
            "displayName": "박재림",
            "photoUrl": "https://lh3.googleusercontent.com/a/default-user=s128",
            "userId": "107675001875083793552"
          }
        }
      },
      "cell_type": "code",
      "source": [
        "#31\n",
        "for i in range(5):\n",
        "  for j in range(3):\n",
        "      if i / 2 == j :\n",
        "        print(' ' * (2-j) ,'*' * (j+1))"
      ],
      "execution_count": 10,
      "outputs": [
        {
          "output_type": "stream",
          "text": [
            "   *\n",
            "  **\n",
            " ***\n"
          ],
          "name": "stdout"
        }
      ]
    },
    {
      "metadata": {
        "id": "ZCCXWVSPWq7F",
        "colab_type": "code",
        "colab": {
          "autoexec": {
            "startup": false,
            "wait_interval": 0
          },
          "base_uri": "https://localhost:8080/",
          "height": 71
        },
        "outputId": "41f5c4ba-31f0-4b71-af83-73514fad33aa",
        "executionInfo": {
          "status": "ok",
          "timestamp": 1526196148214,
          "user_tz": -540,
          "elapsed": 661,
          "user": {
            "displayName": "박재림",
            "photoUrl": "https://lh3.googleusercontent.com/a/default-user=s128",
            "userId": "107675001875083793552"
          }
        }
      },
      "cell_type": "code",
      "source": [
        "#32\n",
        "for i in range(5,-1,-1):\n",
        "  for j in range(3):\n",
        "      if i / 2 == j :\n",
        "        print(' '* (-j+2) , '*' * (j+1))"
      ],
      "execution_count": 47,
      "outputs": [
        {
          "output_type": "stream",
          "text": [
            " ***\n",
            "  **\n",
            "   *\n"
          ],
          "name": "stdout"
        }
      ]
    },
    {
      "metadata": {
        "id": "dr8hq9slYUjx",
        "colab_type": "text"
      },
      "cell_type": "markdown",
      "source": [
        "j = 2 일 때, blank = 0\n",
        "\n",
        "j = 1 일 때, blank = 1\n",
        "\n",
        "j = 0 일 때, blank = 2 \n",
        "\n",
        "이어야 하므로,  \n",
        "\n",
        "j를 x로 blank를 y로 두고 방정식을 세우면,\n",
        "\n",
        "y = -x+2가 됨."
      ]
    },
    {
      "metadata": {
        "id": "6IRLwyITYqad",
        "colab_type": "code",
        "colab": {
          "autoexec": {
            "startup": false,
            "wait_interval": 0
          },
          "base_uri": "https://localhost:8080/",
          "height": 179
        },
        "outputId": "bd214eed-a1cd-431c-f0c7-0d1d6f718b3a",
        "executionInfo": {
          "status": "ok",
          "timestamp": 1526199740402,
          "user_tz": -540,
          "elapsed": 721,
          "user": {
            "displayName": "박재림",
            "photoUrl": "https://lh3.googleusercontent.com/a/default-user=s128",
            "userId": "107675001875083793552"
          }
        }
      },
      "cell_type": "code",
      "source": [
        "#33\n",
        "for i in range(24):\n",
        "    for j in range(9):\n",
        "      if i / 2 == j :\n",
        "        if j < 5:\n",
        "          print('*' * (j+1))\n",
        "        else :\n",
        "          print('*' * (-j+9))"
      ],
      "execution_count": 11,
      "outputs": [
        {
          "output_type": "stream",
          "text": [
            "*\n",
            "**\n",
            "***\n",
            "****\n",
            "*****\n",
            "****\n",
            "***\n",
            "**\n",
            "*\n"
          ],
          "name": "stdout"
        }
      ]
    },
    {
      "metadata": {
        "id": "7RmUYyNIa7fR",
        "colab_type": "code",
        "colab": {
          "autoexec": {
            "startup": false,
            "wait_interval": 0
          },
          "base_uri": "https://localhost:8080/",
          "height": 179
        },
        "outputId": "b811e05a-5522-4d2f-c706-766bfa715ec1",
        "executionInfo": {
          "status": "ok",
          "timestamp": 1526199743060,
          "user_tz": -540,
          "elapsed": 738,
          "user": {
            "displayName": "박재림",
            "photoUrl": "https://lh3.googleusercontent.com/a/default-user=s128",
            "userId": "107675001875083793552"
          }
        }
      },
      "cell_type": "code",
      "source": [
        "#34\n",
        "for i in range(24):\n",
        "    for j in range(9):\n",
        "      if i / 2 == j :\n",
        "        if j < 5:\n",
        "          print(' ' * (4-j), '*' * (j+1))\n",
        "        else :\n",
        "          print(' '* (j-4),'*' * (-j+9))"
      ],
      "execution_count": 12,
      "outputs": [
        {
          "output_type": "stream",
          "text": [
            "     *\n",
            "    **\n",
            "   ***\n",
            "  ****\n",
            " *****\n",
            "  ****\n",
            "   ***\n",
            "    **\n",
            "     *\n"
          ],
          "name": "stdout"
        }
      ]
    },
    {
      "metadata": {
        "id": "maP42X72bnPm",
        "colab_type": "code",
        "colab": {
          "autoexec": {
            "startup": false,
            "wait_interval": 0
          },
          "base_uri": "https://localhost:8080/",
          "height": 179
        },
        "outputId": "9089754d-4244-4e0d-cdab-c7f3900c6428",
        "executionInfo": {
          "status": "ok",
          "timestamp": 1526199745521,
          "user_tz": -540,
          "elapsed": 784,
          "user": {
            "displayName": "박재림",
            "photoUrl": "https://lh3.googleusercontent.com/a/default-user=s128",
            "userId": "107675001875083793552"
          }
        }
      },
      "cell_type": "code",
      "source": [
        "#35\n",
        "for i in range(28):\n",
        "  for j in range(9):\n",
        "      if i / 2 == j :\n",
        "        if j < 5:\n",
        "          print('*' * (5-j))\n",
        "        else :\n",
        "          print('*' * (j-3))"
      ],
      "execution_count": 13,
      "outputs": [
        {
          "output_type": "stream",
          "text": [
            "*****\n",
            "****\n",
            "***\n",
            "**\n",
            "*\n",
            "**\n",
            "***\n",
            "****\n",
            "*****\n"
          ],
          "name": "stdout"
        }
      ]
    },
    {
      "metadata": {
        "id": "NgGUlbHxdvYu",
        "colab_type": "code",
        "colab": {
          "autoexec": {
            "startup": false,
            "wait_interval": 0
          }
        }
      },
      "cell_type": "code",
      "source": [
        "#36 #틀림\n",
        "milk_order = {'1층': {'101호':1, '103호': 5},\n",
        "              '2층': {'201호':3, '202호': 2, '207호': 4, '209호': 10},\n",
        "              '3층': {'303호':4},\n",
        "              '4층': {'401호':2, '403호': 2, '407호': 4}}"
      ],
      "execution_count": 0,
      "outputs": []
    },
    {
      "metadata": {
        "id": "z75Jxl8hd14T",
        "colab_type": "code",
        "colab": {
          "autoexec": {
            "startup": false,
            "wait_interval": 0
          },
          "base_uri": "https://localhost:8080/",
          "height": 136
        },
        "outputId": "8c0ea1fb-c120-4d16-904b-979da2b52eb8",
        "executionInfo": {
          "status": "error",
          "timestamp": 1526199750390,
          "user_tz": -540,
          "elapsed": 726,
          "user": {
            "displayName": "박재림",
            "photoUrl": "https://lh3.googleusercontent.com/a/default-user=s128",
            "userId": "107675001875083793552"
          }
        }
      },
      "cell_type": "code",
      "source": [
        "층 = ['%d 층']\n",
        "호 = [%d]\n",
        "for 층 in milk_order.key():\n",
        "  print()"
      ],
      "execution_count": 15,
      "outputs": [
        {
          "output_type": "error",
          "ename": "SyntaxError",
          "evalue": "ignored",
          "traceback": [
            "\u001b[0;36m  File \u001b[0;32m\"<ipython-input-15-9e7fd84b9bc2>\"\u001b[0;36m, line \u001b[0;32m2\u001b[0m\n\u001b[0;31m    호 = [%d]\u001b[0m\n\u001b[0m         ^\u001b[0m\n\u001b[0;31mSyntaxError\u001b[0m\u001b[0;31m:\u001b[0m invalid syntax\n"
          ]
        }
      ]
    },
    {
      "metadata": {
        "id": "_Ne9L8XDfFu2",
        "colab_type": "code",
        "colab": {
          "autoexec": {
            "startup": false,
            "wait_interval": 0
          },
          "base_uri": "https://localhost:8080/",
          "height": 35
        },
        "outputId": "7ed8b658-6124-4643-ca9e-2ecb129c4175",
        "executionInfo": {
          "status": "ok",
          "timestamp": 1526199754344,
          "user_tz": -540,
          "elapsed": 686,
          "user": {
            "displayName": "박재림",
            "photoUrl": "https://lh3.googleusercontent.com/a/default-user=s128",
            "userId": "107675001875083793552"
          }
        }
      },
      "cell_type": "code",
      "source": [
        "#37\n",
        "a= 0\n",
        "b= 0\n",
        "while b<11 :\n",
        "  a= a+b\n",
        "  b = b+1\n",
        "print(a)"
      ],
      "execution_count": 16,
      "outputs": [
        {
          "output_type": "stream",
          "text": [
            "55\n"
          ],
          "name": "stdout"
        }
      ]
    },
    {
      "metadata": {
        "id": "H6gw4vCih3Nr",
        "colab_type": "code",
        "colab": {
          "autoexec": {
            "startup": false,
            "wait_interval": 0
          },
          "base_uri": "https://localhost:8080/",
          "height": 161
        },
        "outputId": "1d236570-15f3-4de7-c82a-67814d9ea3b0",
        "executionInfo": {
          "status": "ok",
          "timestamp": 1526199769371,
          "user_tz": -540,
          "elapsed": 11828,
          "user": {
            "displayName": "박재림",
            "photoUrl": "https://lh3.googleusercontent.com/a/default-user=s128",
            "userId": "107675001875083793552"
          }
        }
      },
      "cell_type": "code",
      "source": [
        "#38\n",
        "my_password = 5053\n",
        "checking = 0\n",
        "while (checking<5) :\n",
        "  password = int(input('비밀번호 입력 : '))\n",
        "  if(password != my_password):\n",
        "    checking = checking +1\n",
        "    print('틀렸습니다. 다시 입력하세요.')\n",
        "  else :\n",
        "    print('맞았습니다. 현관문이 열렸습니다.')\n",
        "    break\n",
        "    \n",
        "# input이 맨앞에 들어가는것과 루프 중간에 들어가는 것이 다른 이유?\n",
        "# input을 여러번 물어봐야하기때문. 밖에 있으면 루프에 안걸려서 한번밖에 안물어봄."
      ],
      "execution_count": 17,
      "outputs": [
        {
          "output_type": "stream",
          "text": [
            "비밀번호 입력 : 1111\n",
            "틀렸습니다. 다시 입력하세요.\n",
            "비밀번호 입력 : 2222\n",
            "틀렸습니다. 다시 입력하세요.\n",
            "비밀번호 입력 : 3333\n",
            "틀렸습니다. 다시 입력하세요.\n",
            "비밀번호 입력 : 5053\n",
            "맞았습니다. 현관문이 열렸습니다.\n"
          ],
          "name": "stdout"
        }
      ]
    }
  ]
}