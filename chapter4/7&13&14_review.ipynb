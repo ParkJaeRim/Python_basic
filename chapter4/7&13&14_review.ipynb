{
  "nbformat": 4,
  "nbformat_minor": 0,
  "metadata": {
    "colab": {
      "name": "~chapter4_29_review1.ipynb",
      "version": "0.3.2",
      "views": {},
      "default_view": {},
      "provenance": []
    },
    "kernelspec": {
      "name": "python3",
      "display_name": "Python 3"
    }
  },
  "cells": [
    {
      "metadata": {
        "id": "BYF_91rStZxh",
        "colab_type": "code",
        "colab": {
          "autoexec": {
            "startup": false,
            "wait_interval": 0
          }
        }
      },
      "cell_type": "code",
      "source": [
        "#7\n",
        "pets = ['dog', 'cat', 'parrot', 'squirrel', 'goldfish']"
      ],
      "execution_count": 0,
      "outputs": []
    },
    {
      "metadata": {
        "id": "dgQ9xTgRte6o",
        "colab_type": "code",
        "colab": {
          "autoexec": {
            "startup": false,
            "wait_interval": 0
          },
          "base_uri": "https://localhost:8080/",
          "height": 107
        },
        "outputId": "caeec620-e9ec-4d2c-c18c-2363c109ded0",
        "executionInfo": {
          "status": "ok",
          "timestamp": 1526201904113,
          "user_tz": -540,
          "elapsed": 864,
          "user": {
            "displayName": "박재림",
            "photoUrl": "https://lh3.googleusercontent.com/a/default-user=s128",
            "userId": "107675001875083793552"
          }
        }
      },
      "cell_type": "code",
      "source": [
        "for i in range(len(pets)):\n",
        "    print(pets[i], len(pets[i]))"
      ],
      "execution_count": 29,
      "outputs": [
        {
          "output_type": "stream",
          "text": [
            "dog 3\n",
            "cat 3\n",
            "parrot 6\n",
            "squirrel 8\n",
            "goldfish 8\n"
          ],
          "name": "stdout"
        }
      ]
    },
    {
      "metadata": {
        "id": "Auh00hAUwlyS",
        "colab_type": "code",
        "colab": {
          "autoexec": {
            "startup": false,
            "wait_interval": 0
          },
          "base_uri": "https://localhost:8080/",
          "height": 35
        },
        "outputId": "62168b85-1d04-4865-8805-0a0d8086c165",
        "executionInfo": {
          "status": "ok",
          "timestamp": 1526202731940,
          "user_tz": -540,
          "elapsed": 700,
          "user": {
            "displayName": "박재림",
            "photoUrl": "https://lh3.googleusercontent.com/a/default-user=s128",
            "userId": "107675001875083793552"
          }
        }
      },
      "cell_type": "code",
      "source": [
        "#13\n",
        "filenames = ['intra.h', 'intra.c', 'input.txt', 'run.py']\n",
        "result=[]\n",
        "for i in range(len(filenames)):\n",
        "  if '.h' in filenames[i]:\n",
        "    result.append(filenames[i])\n",
        "  if '.c' in filenames[i]:\n",
        "    result.append(filenames[i])\n",
        "print(result)"
      ],
      "execution_count": 70,
      "outputs": [
        {
          "output_type": "stream",
          "text": [
            "['intra.h', 'intra.c']\n"
          ],
          "name": "stdout"
        }
      ]
    },
    {
      "metadata": {
        "id": "v-X6OWICyc0-",
        "colab_type": "code",
        "colab": {
          "autoexec": {
            "startup": false,
            "wait_interval": 0
          }
        }
      },
      "cell_type": "code",
      "source": [
        "#14\n",
        "daily_price = [200, 50, 50, 200, 50, 350]"
      ],
      "execution_count": 0,
      "outputs": []
    },
    {
      "metadata": {
        "id": "Y3iaDoaGyev2",
        "colab_type": "code",
        "colab": {
          "autoexec": {
            "startup": false,
            "wait_interval": 0
          },
          "base_uri": "https://localhost:8080/",
          "height": 35
        },
        "outputId": "5a38791f-2bae-4b28-92b7-2b2c52abecbd",
        "executionInfo": {
          "status": "ok",
          "timestamp": 1526203633717,
          "user_tz": -540,
          "elapsed": 622,
          "user": {
            "displayName": "박재림",
            "photoUrl": "https://lh3.googleusercontent.com/a/default-user=s128",
            "userId": "107675001875083793552"
          }
        }
      },
      "cell_type": "code",
      "source": [
        "new_price=[]\n",
        "for i in range(len(daily_price)):\n",
        "  if i<2:\n",
        "    new_price.append(0)   \n",
        "  else:\n",
        "    new_price.append((daily_price[i-2]+daily_price[i-1]+daily_price[i])/3)\n",
        "print(new_price)"
      ],
      "execution_count": 101,
      "outputs": [
        {
          "output_type": "stream",
          "text": [
            "[0, 0, 100.0, 100.0, 100.0, 200.0]\n"
          ],
          "name": "stdout"
        }
      ]
    }
  ]
}