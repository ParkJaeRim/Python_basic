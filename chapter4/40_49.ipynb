{
  "nbformat": 4,
  "nbformat_minor": 0,
  "metadata": {
    "colab": {
      "name": "40_49.ipynb",
      "version": "0.3.2",
      "views": {},
      "default_view": {},
      "provenance": []
    },
    "kernelspec": {
      "name": "python3",
      "display_name": "Python 3"
    }
  },
  "cells": [
    {
      "metadata": {
        "id": "yR1O2qhImQ9g",
        "colab_type": "code",
        "colab": {
          "autoexec": {
            "startup": false,
            "wait_interval": 0
          }
        }
      },
      "cell_type": "code",
      "source": [
        "data = [[ 2000,  3050,  2050,  1980],[ 7500,  2050,  2050,  1980],[15450, 15050, 15550, 14900]]"
      ],
      "execution_count": 0,
      "outputs": []
    },
    {
      "metadata": {
        "id": "lNbA1VKema8r",
        "colab_type": "code",
        "colab": {
          "autoexec": {
            "startup": false,
            "wait_interval": 0
          },
          "base_uri": "https://localhost:8080/",
          "height": 233
        },
        "outputId": "121ed30a-604a-44eb-ed6d-7b7f25a9c182",
        "executionInfo": {
          "status": "ok",
          "timestamp": 1526200251073,
          "user_tz": -540,
          "elapsed": 634,
          "user": {
            "displayName": "박재림",
            "photoUrl": "https://lh3.googleusercontent.com/a/default-user=s128",
            "userId": "107675001875083793552"
          }
        }
      },
      "cell_type": "code",
      "source": [
        "#40\n",
        "for i in range(3):\n",
        "  for j in range(4):\n",
        "    print(data[i][j]*1.00014)"
      ],
      "execution_count": 11,
      "outputs": [
        {
          "output_type": "stream",
          "text": [
            "2000.28\n",
            "3050.427\n",
            "2050.2870000000003\n",
            "1980.2772\n",
            "7501.05\n",
            "2050.2870000000003\n",
            "2050.2870000000003\n",
            "1980.2772\n",
            "15452.163\n",
            "15052.107\n",
            "15552.177\n",
            "14902.086000000001\n"
          ],
          "name": "stdout"
        }
      ]
    },
    {
      "metadata": {
        "id": "s8yE2A2IoFMs",
        "colab_type": "code",
        "colab": {
          "autoexec": {
            "startup": false,
            "wait_interval": 0
          },
          "base_uri": "https://localhost:8080/",
          "height": 287
        },
        "outputId": "89ec6706-f019-48ad-9137-caf406586834",
        "executionInfo": {
          "status": "ok",
          "timestamp": 1526200323736,
          "user_tz": -540,
          "elapsed": 657,
          "user": {
            "displayName": "박재림",
            "photoUrl": "https://lh3.googleusercontent.com/a/default-user=s128",
            "userId": "107675001875083793552"
          }
        }
      },
      "cell_type": "code",
      "source": [
        "#41\n",
        "for i in range(3):\n",
        "  for j in range(4):\n",
        "    print(data[i][j]*1.00014)\n",
        "  print('----')"
      ],
      "execution_count": 12,
      "outputs": [
        {
          "output_type": "stream",
          "text": [
            "2000.28\n",
            "3050.427\n",
            "2050.2870000000003\n",
            "1980.2772\n",
            "----\n",
            "7501.05\n",
            "2050.2870000000003\n",
            "2050.2870000000003\n",
            "1980.2772\n",
            "----\n",
            "15452.163\n",
            "15052.107\n",
            "15552.177\n",
            "14902.086000000001\n",
            "----\n"
          ],
          "name": "stdout"
        }
      ]
    },
    {
      "metadata": {
        "id": "iJGruEusoR3t",
        "colab_type": "code",
        "colab": {
          "autoexec": {
            "startup": false,
            "wait_interval": 0
          },
          "base_uri": "https://localhost:8080/",
          "height": 55
        },
        "outputId": "539667c4-cff1-4fc2-9b8e-8c777eb24345",
        "executionInfo": {
          "status": "ok",
          "timestamp": 1526200700248,
          "user_tz": -540,
          "elapsed": 588,
          "user": {
            "displayName": "박재림",
            "photoUrl": "https://lh3.googleusercontent.com/a/default-user=s128",
            "userId": "107675001875083793552"
          }
        }
      },
      "cell_type": "code",
      "source": [
        "#42 #다시\n",
        "result=[]\n",
        "for i in range(3):\n",
        "  for j in range(4):\n",
        "    result.append(data[i][j]*1.00014)\n",
        "print(result)"
      ],
      "execution_count": 29,
      "outputs": [
        {
          "output_type": "stream",
          "text": [
            "[2000.28, 3050.427, 2050.2870000000003, 1980.2772, 7501.05, 2050.2870000000003, 2050.2870000000003, 1980.2772, 15452.163, 15052.107, 15552.177, 14902.086000000001]\n"
          ],
          "name": "stdout"
        }
      ]
    },
    {
      "metadata": {
        "id": "XFqv_w08pqlp",
        "colab_type": "code",
        "colab": {
          "autoexec": {
            "startup": false,
            "wait_interval": 0
          }
        }
      },
      "cell_type": "code",
      "source": [
        "#42 #문제이해 X #다시"
      ],
      "execution_count": 0,
      "outputs": []
    }
  ]
}