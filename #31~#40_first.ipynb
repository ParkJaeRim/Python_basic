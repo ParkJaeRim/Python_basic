{
  "nbformat": 4,
  "nbformat_minor": 0,
  "metadata": {
    "colab": {
      "name": "#31~#40.ipynb",
      "version": "0.3.2",
      "views": {},
      "default_view": {},
      "provenance": [],
      "collapsed_sections": []
    },
    "kernelspec": {
      "name": "python3",
      "display_name": "Python 3"
    }
  },
  "cells": [
    {
      "metadata": {
        "id": "ZooGZyHAS_op",
        "colab_type": "text"
      },
      "cell_type": "markdown",
      "source": [
        "\n",
        "2018-04-13 first exercise of \"초보자를 위한 파이썬 300제\" #31~#40\n",
        "\n",
        "wrong answer : #31, #34, #37, #38, #39, #40(더 짧게)"
      ]
    },
    {
      "metadata": {
        "id": "_fqOaWI6rj7B",
        "colab_type": "code",
        "colab": {
          "autoexec": {
            "startup": false,
            "wait_interval": 0
          },
          "base_uri": "https://localhost:8080/",
          "height": 35
        },
        "outputId": "e32a9094-4d4f-4f51-a03f-6a01ce944c76",
        "executionInfo": {
          "status": "ok",
          "timestamp": 1523617629777,
          "user_tz": -540,
          "elapsed": 6219,
          "user": {
            "displayName": "박재림",
            "photoUrl": "https://lh3.googleusercontent.com/a/default-user=s128",
            "userId": "107675001875083793552"
          }
        }
      },
      "cell_type": "code",
      "source": [
        "#틀림\n",
        "#31\n",
        "va1=input('filename:')"
      ],
      "execution_count": 8,
      "outputs": [
        {
          "output_type": "stream",
          "text": [
            "filename:hi.docx\n"
          ],
          "name": "stdout"
        }
      ]
    },
    {
      "metadata": {
        "id": "EvbyABHUrnxQ",
        "colab_type": "code",
        "colab": {
          "autoexec": {
            "startup": false,
            "wait_interval": 0
          },
          "base_uri": "https://localhost:8080/",
          "height": 190
        },
        "outputId": "a6257c8f-ddbe-4171-f8ae-e919b98e07c3",
        "executionInfo": {
          "status": "error",
          "timestamp": 1523617632523,
          "user_tz": -540,
          "elapsed": 602,
          "user": {
            "displayName": "박재림",
            "photoUrl": "https://lh3.googleusercontent.com/a/default-user=s128",
            "userId": "107675001875083793552"
          }
        }
      },
      "cell_type": "code",
      "source": [
        "if val1.endswith('docx'):\n",
        "    print('docx')"
      ],
      "execution_count": 9,
      "outputs": [
        {
          "output_type": "error",
          "ename": "NameError",
          "evalue": "ignored",
          "traceback": [
            "\u001b[0;31m---------------------------------------------------------------------------\u001b[0m",
            "\u001b[0;31mNameError\u001b[0m                                 Traceback (most recent call last)",
            "\u001b[0;32m<ipython-input-9-a5a5be3fa196>\u001b[0m in \u001b[0;36m<module>\u001b[0;34m()\u001b[0m\n\u001b[0;32m----> 1\u001b[0;31m \u001b[0;32mif\u001b[0m \u001b[0mval1\u001b[0m\u001b[0;34m.\u001b[0m\u001b[0mendswith\u001b[0m\u001b[0;34m(\u001b[0m\u001b[0;34m'docx'\u001b[0m\u001b[0;34m)\u001b[0m\u001b[0;34m:\u001b[0m\u001b[0;34m\u001b[0m\u001b[0m\n\u001b[0m\u001b[1;32m      2\u001b[0m     \u001b[0mprint\u001b[0m\u001b[0;34m(\u001b[0m\u001b[0;34m'docx'\u001b[0m\u001b[0;34m)\u001b[0m\u001b[0;34m\u001b[0m\u001b[0m\n",
            "\u001b[0;31mNameError\u001b[0m: name 'val1' is not defined"
          ]
        }
      ]
    },
    {
      "metadata": {
        "id": "2Q0haWMGr6TO",
        "colab_type": "code",
        "colab": {
          "autoexec": {
            "startup": false,
            "wait_interval": 0
          },
          "base_uri": "https://localhost:8080/",
          "height": 35
        },
        "outputId": "ec945a58-ec63-422e-9fac-79e1c479bb4e",
        "executionInfo": {
          "status": "ok",
          "timestamp": 1523617754740,
          "user_tz": -540,
          "elapsed": 567,
          "user": {
            "displayName": "박재림",
            "photoUrl": "https://lh3.googleusercontent.com/a/default-user=s128",
            "userId": "107675001875083793552"
          }
        }
      },
      "cell_type": "code",
      "source": [
        "#32\n",
        "introduce = \"python is widely used high-level language. python was conceived in the late 1980s\"\n",
        "print(introduce.count('python'))"
      ],
      "execution_count": 10,
      "outputs": [
        {
          "output_type": "stream",
          "text": [
            "2\n"
          ],
          "name": "stdout"
        }
      ]
    },
    {
      "metadata": {
        "id": "yPOp3xDDsewU",
        "colab_type": "code",
        "colab": {
          "autoexec": {
            "startup": false,
            "wait_interval": 0
          },
          "base_uri": "https://localhost:8080/",
          "height": 53
        },
        "outputId": "ad100da9-c66d-4616-b0ca-b59022832f21",
        "executionInfo": {
          "status": "ok",
          "timestamp": 1523626818087,
          "user_tz": -540,
          "elapsed": 2547,
          "user": {
            "displayName": "박재림",
            "photoUrl": "https://lh3.googleusercontent.com/a/default-user=s128",
            "userId": "107675001875083793552"
          }
        }
      },
      "cell_type": "code",
      "source": [
        "#33\n",
        "a=input(\"input:\")\n",
        "print(a.lower())"
      ],
      "execution_count": 5,
      "outputs": [
        {
          "output_type": "stream",
          "text": [
            "input:Python\n",
            "python\n"
          ],
          "name": "stdout"
        }
      ]
    },
    {
      "metadata": {
        "id": "W_BpTpZgO6yt",
        "colab_type": "code",
        "colab": {
          "autoexec": {
            "startup": false,
            "wait_interval": 0
          },
          "base_uri": "https://localhost:8080/",
          "height": 35
        },
        "outputId": "a2423da4-ac10-455a-cb96-1bc8363b7d8b",
        "executionInfo": {
          "status": "ok",
          "timestamp": 1523627065893,
          "user_tz": -540,
          "elapsed": 592,
          "user": {
            "displayName": "박재림",
            "photoUrl": "https://lh3.googleusercontent.com/a/default-user=s128",
            "userId": "107675001875083793552"
          }
        }
      },
      "cell_type": "code",
      "source": [
        "#틀림\n",
        "#34\n",
        "mystr1='13'\n",
        "print(mystr1[0:2].zfill)"
      ],
      "execution_count": 15,
      "outputs": [
        {
          "output_type": "stream",
          "text": [
            "<built-in method zfill of str object at 0x7f12443a37a0>\n"
          ],
          "name": "stdout"
        }
      ]
    },
    {
      "metadata": {
        "id": "dpXJvyCnPcmA",
        "colab_type": "code",
        "colab": {
          "autoexec": {
            "startup": false,
            "wait_interval": 0
          },
          "base_uri": "https://localhost:8080/",
          "height": 35
        },
        "outputId": "60b9a697-5c86-4a74-ad81-08a031763ec9",
        "executionInfo": {
          "status": "ok",
          "timestamp": 1523627073789,
          "user_tz": -540,
          "elapsed": 600,
          "user": {
            "displayName": "박재림",
            "photoUrl": "https://lh3.googleusercontent.com/a/default-user=s128",
            "userId": "107675001875083793552"
          }
        }
      },
      "cell_type": "code",
      "source": [
        "#35\n",
        "mystr=\"a man goes into the room...\"\n",
        "print(mystr.strip(\"...\"))"
      ],
      "execution_count": 16,
      "outputs": [
        {
          "output_type": "stream",
          "text": [
            "a man goes into the room\n"
          ],
          "name": "stdout"
        }
      ]
    },
    {
      "metadata": {
        "id": "VBOy7O-gPtQd",
        "colab_type": "code",
        "colab": {
          "autoexec": {
            "startup": false,
            "wait_interval": 0
          }
        }
      },
      "cell_type": "code",
      "source": [
        "#36\n",
        "#OK"
      ],
      "execution_count": 0,
      "outputs": []
    },
    {
      "metadata": {
        "id": "ilYihWmPPp1H",
        "colab_type": "code",
        "colab": {
          "autoexec": {
            "startup": false,
            "wait_interval": 0
          }
        }
      },
      "cell_type": "code",
      "source": [
        "#틀림\n",
        "#37\n"
      ],
      "execution_count": 0,
      "outputs": []
    },
    {
      "metadata": {
        "id": "DTutJdQ_PZuw",
        "colab_type": "code",
        "colab": {
          "autoexec": {
            "startup": false,
            "wait_interval": 0
          }
        }
      },
      "cell_type": "code",
      "source": [
        "#틀림\n",
        "#38\n",
        "str2='spam egg'"
      ],
      "execution_count": 0,
      "outputs": []
    },
    {
      "metadata": {
        "id": "KIU2l-NaPP6A",
        "colab_type": "code",
        "colab": {
          "autoexec": {
            "startup": false,
            "wait_interval": 0
          }
        }
      },
      "cell_type": "code",
      "source": [
        "#틀림\n",
        "#39\n",
        "mystr = 'Python python pYthon java Java'"
      ],
      "execution_count": 0,
      "outputs": []
    },
    {
      "metadata": {
        "id": "w-BgeENFQ14o",
        "colab_type": "code",
        "colab": {
          "autoexec": {
            "startup": false,
            "wait_interval": 0
          },
          "base_uri": "https://localhost:8080/",
          "height": 89
        },
        "outputId": "5b3fc8f4-6ce8-46d6-a579-871967fc4ec2",
        "executionInfo": {
          "status": "ok",
          "timestamp": 1523627449718,
          "user_tz": -540,
          "elapsed": 5648,
          "user": {
            "displayName": "박재림",
            "photoUrl": "https://lh3.googleusercontent.com/a/default-user=s128",
            "userId": "107675001875083793552"
          }
        }
      },
      "cell_type": "code",
      "source": [
        "#다시 더 짧게\n",
        "#40\n",
        "hour=int(input())\n",
        "minutes=int(input())\n",
        "sec=int(input())\n",
        "time1=print('%s : %s : %s' %(hour, minutes, sec))\n"
      ],
      "execution_count": 29,
      "outputs": [
        {
          "output_type": "stream",
          "text": [
            "10\n",
            "00\n",
            "01\n",
            "10 : 0 : 1\n"
          ],
          "name": "stdout"
        }
      ]
    },
    {
      "metadata": {
        "id": "0h28a-MhRah0",
        "colab_type": "code",
        "colab": {
          "autoexec": {
            "startup": false,
            "wait_interval": 0
          },
          "base_uri": "https://localhost:8080/",
          "height": 35
        },
        "outputId": "d1321f1f-f161-40a4-d304-089de53fb12c",
        "executionInfo": {
          "status": "ok",
          "timestamp": 1523627608433,
          "user_tz": -540,
          "elapsed": 688,
          "user": {
            "displayName": "박재림",
            "photoUrl": "https://lh3.googleusercontent.com/a/default-user=s128",
            "userId": "107675001875083793552"
          }
        }
      },
      "cell_type": "code",
      "source": [
        "hour2=0\n",
        "minutes2=0\n",
        "sec2=0\n",
        "\n",
        "ex=((hour-hour2)*3600+(minutes-minutes2)*60+(sec-sec2))\n",
        "print(ex)"
      ],
      "execution_count": 32,
      "outputs": [
        {
          "output_type": "stream",
          "text": [
            "36001\n"
          ],
          "name": "stdout"
        }
      ]
    }
  ]
}