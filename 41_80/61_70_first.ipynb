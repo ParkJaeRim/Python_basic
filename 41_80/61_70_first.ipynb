{
  "nbformat": 4,
  "nbformat_minor": 0,
  "metadata": {
    "colab": {
      "name": "61_70.ipynb",
      "version": "0.3.2",
      "views": {},
      "default_view": {},
      "provenance": []
    },
    "kernelspec": {
      "name": "python3",
      "display_name": "Python 3"
    }
  },
  "cells": [
    {
      "metadata": {
        "id": "uKHfYf9s_5U_",
        "colab_type": "code",
        "colab": {
          "autoexec": {
            "startup": false,
            "wait_interval": 0
          },
          "base_uri": "https://localhost:8080/",
          "height": 35
        },
        "outputId": "a892698d-3add-4fca-de19-b5e3adb27dba",
        "executionInfo": {
          "status": "ok",
          "timestamp": 1524579291701,
          "user_tz": -540,
          "elapsed": 614,
          "user": {
            "displayName": "박재림",
            "photoUrl": "https://lh3.googleusercontent.com/a/default-user=s128",
            "userId": "107675001875083793552"
          }
        }
      },
      "cell_type": "code",
      "source": [
        "w#61\n",
        "empty_dict={}\n",
        "print(empty_dict)"
      ],
      "execution_count": 2,
      "outputs": [
        {
          "output_type": "stream",
          "text": [
            "{}\n"
          ],
          "name": "stdout"
        }
      ]
    },
    {
      "metadata": {
        "id": "p1bjXN80AZHq",
        "colab_type": "code",
        "colab": {
          "autoexec": {
            "startup": false,
            "wait_interval": 0
          },
          "base_uri": "https://localhost:8080/",
          "height": 55
        },
        "outputId": "574f33a6-cbc1-4d45-d259-0fd9ccacfe83",
        "executionInfo": {
          "status": "ok",
          "timestamp": 1524579643371,
          "user_tz": -540,
          "elapsed": 624,
          "user": {
            "displayName": "박재림",
            "photoUrl": "https://lh3.googleusercontent.com/a/default-user=s128",
            "userId": "107675001875083793552"
          }
        }
      },
      "cell_type": "code",
      "source": [
        "#62\n",
        "icecream={'Melona':1000, 'Pollapo':1200,'Ppangppare':1800,'Tankboy':1200,'Heathunting':1200,'Worldcorn':1500}\n",
        "print(icecream)"
      ],
      "execution_count": 21,
      "outputs": [
        {
          "output_type": "stream",
          "text": [
            "{'Melona': 1000, 'Pollapo': 1200, 'Ppangppare': 1800, 'Tankboy': 1200, 'Heathunting': 1200, 'Worldcorn': 1500}\n"
          ],
          "name": "stdout"
        }
      ]
    },
    {
      "metadata": {
        "id": "zYn3AfBlAt7n",
        "colab_type": "code",
        "colab": {
          "autoexec": {
            "startup": false,
            "wait_interval": 0
          },
          "base_uri": "https://localhost:8080/",
          "height": 53
        },
        "outputId": "6ec5fc32-608e-4af8-fa68-9fd266de514b",
        "executionInfo": {
          "status": "ok",
          "timestamp": 1524579646303,
          "user_tz": -540,
          "elapsed": 448,
          "user": {
            "displayName": "박재림",
            "photoUrl": "https://lh3.googleusercontent.com/a/default-user=s128",
            "userId": "107675001875083793552"
          }
        }
      },
      "cell_type": "code",
      "source": [
        "#63\n",
        "print('메로나가격:')\n",
        "icecream['Melona']"
      ],
      "execution_count": 22,
      "outputs": [
        {
          "output_type": "stream",
          "text": [
            "메로나가격:\n"
          ],
          "name": "stdout"
        },
        {
          "output_type": "execute_result",
          "data": {
            "text/plain": [
              "1000"
            ]
          },
          "metadata": {
            "tags": []
          },
          "execution_count": 22
        }
      ]
    },
    {
      "metadata": {
        "id": "3nve9zYkBuBv",
        "colab_type": "code",
        "colab": {
          "autoexec": {
            "startup": false,
            "wait_interval": 0
          }
        }
      },
      "cell_type": "code",
      "source": [
        "#64\n",
        "#wrong"
      ],
      "execution_count": 0,
      "outputs": []
    },
    {
      "metadata": {
        "id": "8SE0K35SBiSp",
        "colab_type": "code",
        "colab": {
          "autoexec": {
            "startup": false,
            "wait_interval": 0
          },
          "base_uri": "https://localhost:8080/",
          "height": 55
        },
        "outputId": "3b230abb-3224-46d5-d3d0-9ffdb31d4ac9",
        "executionInfo": {
          "status": "ok",
          "timestamp": 1524579744098,
          "user_tz": -540,
          "elapsed": 628,
          "user": {
            "displayName": "박재림",
            "photoUrl": "https://lh3.googleusercontent.com/a/default-user=s128",
            "userId": "107675001875083793552"
          }
        }
      },
      "cell_type": "code",
      "source": [
        "#65\n",
        "icecream2={'Melona':[1000,10],'Pollapo':[1200,7],'Ppangppare':[1800,6],'Tankboy':[1200,5],'Heathunting':[1200,4],'Worldcorn':[1500,3]}\n",
        "print(icecream2)"
      ],
      "execution_count": 23,
      "outputs": [
        {
          "output_type": "stream",
          "text": [
            "{'Melona': [1000, 10], 'Pollapo': [1200, 7], 'Ppangppare': [1800, 6], 'Tankboy': [1200, 5], 'Heathunting': [1200, 4], 'Worldcorn': [1500, 3]}\n"
          ],
          "name": "stdout"
        }
      ]
    },
    {
      "metadata": {
        "id": "1fGQBirxCPVq",
        "colab_type": "text"
      },
      "cell_type": "markdown",
      "source": [
        "\n",
        "66\n",
        "\n",
        "Nugaba는 딕셔너리에 없다."
      ]
    },
    {
      "metadata": {
        "id": "7nCPbFAjCTkK",
        "colab_type": "code",
        "colab": {
          "autoexec": {
            "startup": false,
            "wait_interval": 0
          },
          "base_uri": "https://localhost:8080/",
          "height": 136
        },
        "outputId": "e9896ae7-6f87-49b7-e956-9bd76aecb178",
        "executionInfo": {
          "status": "error",
          "timestamp": 1524580050368,
          "user_tz": -540,
          "elapsed": 605,
          "user": {
            "displayName": "박재림",
            "photoUrl": "https://lh3.googleusercontent.com/a/default-user=s128",
            "userId": "107675001875083793552"
          }
        }
      },
      "cell_type": "code",
      "source": [
        "#67\n",
        "#wrong\n",
        "result=append(icecram{})"
      ],
      "execution_count": 37,
      "outputs": [
        {
          "output_type": "error",
          "ename": "SyntaxError",
          "evalue": "ignored",
          "traceback": [
            "\u001b[0;36m  File \u001b[0;32m\"<ipython-input-37-10084740de42>\"\u001b[0;36m, line \u001b[0;32m1\u001b[0m\n\u001b[0;31m    result=append(icecram{})\u001b[0m\n\u001b[0m                         ^\u001b[0m\n\u001b[0;31mSyntaxError\u001b[0m\u001b[0;31m:\u001b[0m invalid syntax\n"
          ]
        }
      ]
    },
    {
      "metadata": {
        "id": "imeEdqjxqZgM",
        "colab_type": "code",
        "colab": {
          "autoexec": {
            "startup": false,
            "wait_interval": 0
          }
        }
      },
      "cell_type": "code",
      "source": [
        "#68\n",
        "#wrong\n"
      ],
      "execution_count": 0,
      "outputs": []
    },
    {
      "metadata": {
        "id": "i9_UUJAYqctN",
        "colab_type": "code",
        "colab": {
          "autoexec": {
            "startup": false,
            "wait_interval": 0
          }
        }
      },
      "cell_type": "code",
      "source": [
        "#69\n",
        "#wrong"
      ],
      "execution_count": 0,
      "outputs": []
    },
    {
      "metadata": {
        "id": "oXj2jxqzqdAV",
        "colab_type": "code",
        "colab": {
          "autoexec": {
            "startup": false,
            "wait_interval": 0
          }
        }
      },
      "cell_type": "code",
      "source": [
        "#70\n",
        "#wrong\n",
        "contact1 = {'chusu': '010-3111-2393', 'minsu':'010-3112-9932'}\n",
        "contact2 = {'jaein': '011-1312-2121', 'jongho':'010-8821-1311'}"
      ],
      "execution_count": 0,
      "outputs": []
    },
    {
      "metadata": {
        "id": "Dx6atIbHrhqU",
        "colab_type": "code",
        "colab": {
          "autoexec": {
            "startup": false,
            "wait_interval": 0
          }
        }
      },
      "cell_type": "code",
      "source": [
        "#other\n",
        "#wrong\n",
        "coffee={'Americano':2500, 'Cafe Latte':3000, 'Cappuccino':3500, 'Cafe Mocha':4000}"
      ],
      "execution_count": 0,
      "outputs": []
    }
  ]
}