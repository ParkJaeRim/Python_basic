{
  "nbformat": 4,
  "nbformat_minor": 0,
  "metadata": {
    "colab": {
      "name": "1_80_review2.ipynb",
      "version": "0.3.2",
      "views": {},
      "default_view": {},
      "provenance": []
    },
    "kernelspec": {
      "name": "python3",
      "display_name": "Python 3"
    }
  },
  "cells": [
    {
      "metadata": {
        "id": "i-Qj0BmJj2jG",
        "colab_type": "text"
      },
      "cell_type": "markdown",
      "source": [
        "## 2018-05-04 review"
      ]
    },
    {
      "metadata": {
        "id": "iFHY0ESwaavH",
        "colab_type": "code",
        "colab": {
          "autoexec": {
            "startup": false,
            "wait_interval": 0
          },
          "base_uri": "https://localhost:8080/",
          "height": 53
        },
        "outputId": "23ae1894-5020-4a15-c3bd-914409bddee6",
        "executionInfo": {
          "status": "ok",
          "timestamp": 1525425310618,
          "user_tz": -540,
          "elapsed": 5558,
          "user": {
            "displayName": "박재림",
            "photoUrl": "https://lh3.googleusercontent.com/a/default-user=s128",
            "userId": "107675001875083793552"
          }
        }
      },
      "cell_type": "code",
      "source": [
        "#40\n",
        "time = input('시간:')\n",
        "hour = time.split(\":\")[0]\n",
        "minutes = time.split(\":\")[1]\n",
        "sec = time.split(\":\")[2]\n",
        "\n",
        "print((int(hour)*3600) + (int(minutes)*60) + int(sec))"
      ],
      "execution_count": 7,
      "outputs": [
        {
          "output_type": "stream",
          "text": [
            "시간:10:00:01\n",
            "36001\n"
          ],
          "name": "stdout"
        }
      ]
    },
    {
      "metadata": {
        "id": "9qUVXKgUbS_u",
        "colab_type": "code",
        "colab": {
          "autoexec": {
            "startup": false,
            "wait_interval": 0
          },
          "base_uri": "https://localhost:8080/",
          "height": 35
        },
        "outputId": "3dc0d2c2-2a5c-4799-e924-bf9f4641d0fd",
        "executionInfo": {
          "status": "ok",
          "timestamp": 1525425506973,
          "user_tz": -540,
          "elapsed": 546,
          "user": {
            "displayName": "박재림",
            "photoUrl": "https://lh3.googleusercontent.com/a/default-user=s128",
            "userId": "107675001875083793552"
          }
        }
      },
      "cell_type": "code",
      "source": [
        "#50\n",
        "items = ['000600', '034560', '003540', '039490']\n",
        "mystr = ';'.join(items)\n",
        "print(mystr)"
      ],
      "execution_count": 9,
      "outputs": [
        {
          "output_type": "stream",
          "text": [
            "000600;034560;003540;039490\n"
          ],
          "name": "stdout"
        }
      ]
    },
    {
      "metadata": {
        "id": "yhdIJg02clHZ",
        "colab_type": "code",
        "colab": {
          "autoexec": {
            "startup": false,
            "wait_interval": 0
          },
          "base_uri": "https://localhost:8080/",
          "height": 35
        },
        "outputId": "2f66416c-d31a-4270-9c3a-7b082d66a65d",
        "executionInfo": {
          "status": "ok",
          "timestamp": 1525426220301,
          "user_tz": -540,
          "elapsed": 520,
          "user": {
            "displayName": "박재림",
            "photoUrl": "https://lh3.googleusercontent.com/a/default-user=s128",
            "userId": "107675001875083793552"
          }
        }
      },
      "cell_type": "code",
      "source": [
        "#54\n",
        "t = ('a', 'b', 'c')\n",
        "print(t[0].upper(), t[1], t[2])"
      ],
      "execution_count": 15,
      "outputs": [
        {
          "output_type": "stream",
          "text": [
            "A b c\n"
          ],
          "name": "stdout"
        }
      ]
    },
    {
      "metadata": {
        "id": "tW4bcfl-el8Y",
        "colab_type": "code",
        "colab": {
          "autoexec": {
            "startup": false,
            "wait_interval": 0
          },
          "base_uri": "https://localhost:8080/",
          "height": 35
        },
        "outputId": "1aab59e8-78d9-45e6-c9eb-15fedd05e33c",
        "executionInfo": {
          "status": "ok",
          "timestamp": 1525426369676,
          "user_tz": -540,
          "elapsed": 559,
          "user": {
            "displayName": "박재림",
            "photoUrl": "https://lh3.googleusercontent.com/a/default-user=s128",
            "userId": "107675001875083793552"
          }
        }
      },
      "cell_type": "code",
      "source": [
        "#69\n",
        "icecream = {'Tankboy': 1200, 'Ppangppare': 1800, 'Worldcorn': 1500, 'Melona': 1000}\n",
        "a=icecream.values()\n",
        "print(min(a))"
      ],
      "execution_count": 18,
      "outputs": [
        {
          "output_type": "stream",
          "text": [
            "1000\n"
          ],
          "name": "stdout"
        }
      ]
    },
    {
      "metadata": {
        "id": "vLWWmPmrfzIx",
        "colab_type": "code",
        "colab": {
          "autoexec": {
            "startup": false,
            "wait_interval": 0
          },
          "base_uri": "https://localhost:8080/",
          "height": 55
        },
        "outputId": "fc7720f0-dd79-4faa-a236-1f85fc96b71d",
        "executionInfo": {
          "status": "ok",
          "timestamp": 1525426623170,
          "user_tz": -540,
          "elapsed": 536,
          "user": {
            "displayName": "박재림",
            "photoUrl": "https://lh3.googleusercontent.com/a/default-user=s128",
            "userId": "107675001875083793552"
          }
        }
      },
      "cell_type": "code",
      "source": [
        "#70\n",
        "contact1 = {'chusu': '010-3111-2393', 'minsu':'010-3112-9932'}\n",
        "contact2 = {'jaein': '011-1312-2121', 'jongho':'010-8821-1311'}\n",
        "contact1.update(contact2)\n",
        "print(contact1)\n"
      ],
      "execution_count": 23,
      "outputs": [
        {
          "output_type": "stream",
          "text": [
            "{'chusu': '010-3111-2393', 'minsu': '010-3112-9932', 'jaein': '011-1312-2121', 'jongho': '010-8821-1311'}\n"
          ],
          "name": "stdout"
        }
      ]
    },
    {
      "metadata": {
        "id": "rarn3MBDg2o_",
        "colab_type": "code",
        "colab": {
          "autoexec": {
            "startup": false,
            "wait_interval": 0
          },
          "base_uri": "https://localhost:8080/",
          "height": 53
        },
        "outputId": "989afd41-9c54-45ac-c828-749bd36e65b9",
        "executionInfo": {
          "status": "ok",
          "timestamp": 1525427075979,
          "user_tz": -540,
          "elapsed": 5332,
          "user": {
            "displayName": "박재림",
            "photoUrl": "https://lh3.googleusercontent.com/a/default-user=s128",
            "userId": "107675001875083793552"
          }
        }
      },
      "cell_type": "code",
      "source": [
        "#other\n",
        "coffee = {'Americano' : 2500, 'Cafe Latte': 3000, 'Cappuccino' : 3500, 'Cafe Mocha' : 4000}\n",
        "custom = input('주문:')\n",
        "print('가격:', coffee[custom])"
      ],
      "execution_count": 30,
      "outputs": [
        {
          "output_type": "stream",
          "text": [
            "주문:Cappuccino\n",
            "가격: 3500\n"
          ],
          "name": "stdout"
        }
      ]
    },
    {
      "metadata": {
        "id": "wMVf4C_TicgG",
        "colab_type": "code",
        "colab": {
          "autoexec": {
            "startup": false,
            "wait_interval": 0
          },
          "base_uri": "https://localhost:8080/",
          "height": 35
        },
        "outputId": "00f29747-f646-4110-84f1-ec4971d60163",
        "executionInfo": {
          "status": "ok",
          "timestamp": 1525427241035,
          "user_tz": -540,
          "elapsed": 547,
          "user": {
            "displayName": "박재림",
            "photoUrl": "https://lh3.googleusercontent.com/a/default-user=s128",
            "userId": "107675001875083793552"
          }
        }
      },
      "cell_type": "code",
      "source": [
        "#78 #틀림\n",
        "date = ['09/05', '09/06', '09/07', '09/08', '09/09']\n",
        "end_price = [10500, 10300, 10100, 10800, 11000]\n",
        "daeshin=dict()\n",
        "date=daeshin.keys()\n",
        "end_price=daeshin.values()\n",
        "print(daeshin)\n"
      ],
      "execution_count": 33,
      "outputs": [
        {
          "output_type": "stream",
          "text": [
            "{}\n"
          ],
          "name": "stdout"
        }
      ]
    },
    {
      "metadata": {
        "id": "KB_M-UMWjmo2",
        "colab_type": "code",
        "colab": {
          "autoexec": {
            "startup": false,
            "wait_interval": 0
          },
          "base_uri": "https://localhost:8080/",
          "height": 190
        },
        "outputId": "7cf117e8-af7d-47a0-d07b-72e626f78306",
        "executionInfo": {
          "status": "error",
          "timestamp": 1525427384135,
          "user_tz": -540,
          "elapsed": 564,
          "user": {
            "displayName": "박재림",
            "photoUrl": "https://lh3.googleusercontent.com/a/default-user=s128",
            "userId": "107675001875083793552"
          }
        }
      },
      "cell_type": "code",
      "source": [
        "#79\n",
        "strs = ['for', 'example' 'with', 'a', 'list']\n",
        "sorted(len(strs))"
      ],
      "execution_count": 34,
      "outputs": [
        {
          "output_type": "error",
          "ename": "TypeError",
          "evalue": "ignored",
          "traceback": [
            "\u001b[0;31m---------------------------------------------------------------------------\u001b[0m",
            "\u001b[0;31mTypeError\u001b[0m                                 Traceback (most recent call last)",
            "\u001b[0;32m<ipython-input-34-6dec0f2bf44a>\u001b[0m in \u001b[0;36m<module>\u001b[0;34m()\u001b[0m\n\u001b[1;32m      1\u001b[0m \u001b[0mstrs\u001b[0m \u001b[0;34m=\u001b[0m \u001b[0;34m[\u001b[0m\u001b[0;34m'for'\u001b[0m\u001b[0;34m,\u001b[0m \u001b[0;34m'example'\u001b[0m \u001b[0;34m'with'\u001b[0m\u001b[0;34m,\u001b[0m \u001b[0;34m'a'\u001b[0m\u001b[0;34m,\u001b[0m \u001b[0;34m'list'\u001b[0m\u001b[0;34m]\u001b[0m\u001b[0;34m\u001b[0m\u001b[0m\n\u001b[0;32m----> 2\u001b[0;31m \u001b[0msorted\u001b[0m\u001b[0;34m(\u001b[0m\u001b[0mlen\u001b[0m\u001b[0;34m(\u001b[0m\u001b[0mstrs\u001b[0m\u001b[0;34m)\u001b[0m\u001b[0;34m)\u001b[0m\u001b[0;34m\u001b[0m\u001b[0m\n\u001b[0m",
            "\u001b[0;31mTypeError\u001b[0m: 'int' object is not iterable"
          ]
        }
      ]
    },
    {
      "metadata": {
        "id": "XkQXa0mnjqzr",
        "colab_type": "code",
        "colab": {
          "autoexec": {
            "startup": false,
            "wait_interval": 0
          }
        }
      },
      "cell_type": "code",
      "source": [
        ""
      ],
      "execution_count": 0,
      "outputs": []
    }
  ]
}