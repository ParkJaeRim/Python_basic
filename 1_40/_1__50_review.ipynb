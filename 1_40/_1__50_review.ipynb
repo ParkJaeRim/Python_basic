{
  "nbformat": 4,
  "nbformat_minor": 0,
  "metadata": {
    "colab": {
      "name": "#1~#50_review.ipynb",
      "version": "0.3.2",
      "views": {},
      "default_view": {},
      "provenance": []
    },
    "kernelspec": {
      "name": "python3",
      "display_name": "Python 3"
    }
  },
  "cells": [
    {
      "metadata": {
        "id": "bdapwO9F01xN",
        "colab_type": "code",
        "colab": {
          "autoexec": {
            "startup": false,
            "wait_interval": 0
          },
          "base_uri": "https://localhost:8080/",
          "height": 35
        },
        "outputId": "805e2472-7c64-49bb-e9ae-2a641be532ee",
        "executionInfo": {
          "status": "ok",
          "timestamp": 1524123293767,
          "user_tz": -540,
          "elapsed": 642,
          "user": {
            "displayName": "박재림",
            "photoUrl": "https://lh3.googleusercontent.com/a/default-user=s128",
            "userId": "107675001875083793552"
          }
        }
      },
      "cell_type": "code",
      "source": [
        "#27\n",
        "lang='python'\n",
        "lang='P'+lang[1:]\n",
        "print(lang)"
      ],
      "execution_count": 19,
      "outputs": [
        {
          "output_type": "stream",
          "text": [
            "Python\n"
          ],
          "name": "stdout"
        }
      ]
    },
    {
      "metadata": {
        "id": "glsJ_i84o3zg",
        "colab_type": "code",
        "colab": {
          "autoexec": {
            "startup": false,
            "wait_interval": 0
          },
          "base_uri": "https://localhost:8080/",
          "height": 55
        },
        "outputId": "b6b817bd-a838-4a70-ca50-f865fce178b4",
        "executionInfo": {
          "status": "ok",
          "timestamp": 1524120304194,
          "user_tz": -540,
          "elapsed": 632,
          "user": {
            "displayName": "박재림",
            "photoUrl": "https://lh3.googleusercontent.com/a/default-user=s128",
            "userId": "107675001875083793552"
          }
        }
      },
      "cell_type": "code",
      "source": [
        "#42\n",
        "movie=[{'닥터스트레인지':(36.6,7.7)},{'스플릿':(18.8,8.1)},{'럭키':(12.7,7.6)}]\n",
        "print(movie)"
      ],
      "execution_count": 6,
      "outputs": [
        {
          "output_type": "stream",
          "text": [
            "[{'닥터스트레인지': (36.6, 7.7)}, {'스플릿': (18.8, 8.1)}, {'럭키': (12.7, 7.6)}]\n"
          ],
          "name": "stdout"
        }
      ]
    },
    {
      "metadata": {
        "id": "ehiJ2gk5wHN4",
        "colab_type": "code",
        "colab": {
          "autoexec": {
            "startup": false,
            "wait_interval": 0
          },
          "base_uri": "https://localhost:8080/",
          "height": 35
        },
        "outputId": "5d97702d-44b5-4b4b-b188-e0b7a8b683d4",
        "executionInfo": {
          "status": "ok",
          "timestamp": 1524122166736,
          "user_tz": -540,
          "elapsed": 590,
          "user": {
            "displayName": "박재림",
            "photoUrl": "https://lh3.googleusercontent.com/a/default-user=s128",
            "userId": "107675001875083793552"
          }
        }
      },
      "cell_type": "code",
      "source": [
        "#45\n",
        "nums = [2, 3, 1, 7, 10, 4, 5, 8]\n",
        "print(sorted(nums))"
      ],
      "execution_count": 14,
      "outputs": [
        {
          "output_type": "stream",
          "text": [
            "[1, 2, 3, 4, 5, 7, 8, 10]\n"
          ],
          "name": "stdout"
        }
      ]
    },
    {
      "metadata": {
        "id": "PYSDd3Q-pOBK",
        "colab_type": "code",
        "colab": {
          "autoexec": {
            "startup": false,
            "wait_interval": 0
          },
          "base_uri": "https://localhost:8080/",
          "height": 35
        },
        "outputId": "d29ab4a0-7a74-4b27-c860-8211270c2a31",
        "executionInfo": {
          "status": "ok",
          "timestamp": 1524121240473,
          "user_tz": -540,
          "elapsed": 602,
          "user": {
            "displayName": "박재림",
            "photoUrl": "https://lh3.googleusercontent.com/a/default-user=s128",
            "userId": "107675001875083793552"
          }
        }
      },
      "cell_type": "code",
      "source": [
        "#46\n",
        "tlist=['2016-09-05', '2016-09-06', '2016-09-07', '2016-09-08', '2016-09-09']\n",
        "tlist.reverse()\n",
        "print(tlist)"
      ],
      "execution_count": 10,
      "outputs": [
        {
          "output_type": "stream",
          "text": [
            "['2016-09-09', '2016-09-08', '2016-09-07', '2016-09-06', '2016-09-05']\n"
          ],
          "name": "stdout"
        }
      ]
    },
    {
      "metadata": {
        "id": "0pePCxtWs-w3",
        "colab_type": "code",
        "colab": {
          "autoexec": {
            "startup": false,
            "wait_interval": 0
          },
          "base_uri": "https://localhost:8080/",
          "height": 35
        },
        "outputId": "58cf9ef2-f88c-440d-f0ad-49f4d5cde551",
        "executionInfo": {
          "status": "ok",
          "timestamp": 1524121900334,
          "user_tz": -540,
          "elapsed": 610,
          "user": {
            "displayName": "박재림",
            "photoUrl": "https://lh3.googleusercontent.com/a/default-user=s128",
            "userId": "107675001875083793552"
          }
        }
      },
      "cell_type": "code",
      "source": [
        "#47\n",
        "close_price_daeshin = [10000, 10500, 10300, 10700, 11100]\n",
        "print(sum(close_price_daeshin)/len(close_price_daeshin))"
      ],
      "execution_count": 12,
      "outputs": [
        {
          "output_type": "stream",
          "text": [
            "10520.0\n"
          ],
          "name": "stdout"
        }
      ]
    },
    {
      "metadata": {
        "id": "WZJoISaLvgX7",
        "colab_type": "code",
        "colab": {
          "autoexec": {
            "startup": false,
            "wait_interval": 0
          },
          "base_uri": "https://localhost:8080/",
          "height": 208
        },
        "outputId": "f531cab0-f41d-4573-ecd6-bd8e391c5bc1",
        "executionInfo": {
          "status": "error",
          "timestamp": 1524122373798,
          "user_tz": -540,
          "elapsed": 648,
          "user": {
            "displayName": "박재림",
            "photoUrl": "https://lh3.googleusercontent.com/a/default-user=s128",
            "userId": "107675001875083793552"
          }
        }
      },
      "cell_type": "code",
      "source": [
        "#50\n",
        "#wrong\n",
        "items = ['000600', '034560', '003540', '039490']\n",
        "items=items.join(';')\n",
        "print(items)"
      ],
      "execution_count": 18,
      "outputs": [
        {
          "output_type": "error",
          "ename": "AttributeError",
          "evalue": "ignored",
          "traceback": [
            "\u001b[0;31m---------------------------------------------------------------------------\u001b[0m",
            "\u001b[0;31mAttributeError\u001b[0m                            Traceback (most recent call last)",
            "\u001b[0;32m<ipython-input-18-1b47894f1afa>\u001b[0m in \u001b[0;36m<module>\u001b[0;34m()\u001b[0m\n\u001b[1;32m      1\u001b[0m \u001b[0mitems\u001b[0m \u001b[0;34m=\u001b[0m \u001b[0;34m[\u001b[0m\u001b[0;34m'000600'\u001b[0m\u001b[0;34m,\u001b[0m \u001b[0;34m'034560'\u001b[0m\u001b[0;34m,\u001b[0m \u001b[0;34m'003540'\u001b[0m\u001b[0;34m,\u001b[0m \u001b[0;34m'039490'\u001b[0m\u001b[0;34m]\u001b[0m\u001b[0;34m\u001b[0m\u001b[0m\n\u001b[0;32m----> 2\u001b[0;31m \u001b[0mitems\u001b[0m\u001b[0;34m=\u001b[0m\u001b[0mitems\u001b[0m\u001b[0;34m.\u001b[0m\u001b[0mjoin\u001b[0m\u001b[0;34m(\u001b[0m\u001b[0;34m';'\u001b[0m\u001b[0;34m)\u001b[0m\u001b[0;34m\u001b[0m\u001b[0m\n\u001b[0m\u001b[1;32m      3\u001b[0m \u001b[0mprint\u001b[0m\u001b[0;34m(\u001b[0m\u001b[0mitems\u001b[0m\u001b[0;34m)\u001b[0m\u001b[0;34m\u001b[0m\u001b[0m\n",
            "\u001b[0;31mAttributeError\u001b[0m: 'list' object has no attribute 'join'"
          ]
        }
      ]
    }
  ]
}