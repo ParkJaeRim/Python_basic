{
  "nbformat": 4,
  "nbformat_minor": 0,
  "metadata": {
    "colab": {
      "name": "Chaper3_review.ipynb",
      "version": "0.3.2",
      "views": {},
      "default_view": {},
      "provenance": []
    },
    "kernelspec": {
      "name": "python3",
      "display_name": "Python 3"
    }
  },
  "cells": [
    {
      "metadata": {
        "id": "SylcbbUEkSv-",
        "colab_type": "code",
        "colab": {
          "autoexec": {
            "startup": false,
            "wait_interval": 0
          },
          "base_uri": "https://localhost:8080/",
          "height": 89
        },
        "outputId": "06652b32-6476-4b36-ff33-826271fd5bd4",
        "executionInfo": {
          "status": "ok",
          "timestamp": 1525428298174,
          "user_tz": -540,
          "elapsed": 3600,
          "user": {
            "displayName": "박재림",
            "photoUrl": "https://lh3.googleusercontent.com/a/default-user=s128",
            "userId": "107675001875083793552"
          }
        }
      },
      "cell_type": "code",
      "source": [
        "#10\n",
        "a = int(input('number1:'))\n",
        "b = int(input('number2:'))\n",
        "c = int(input('number3:'))\n",
        "\n",
        "if a > b :\n",
        "    if a > c :\n",
        "      print(a)\n",
        "    else:\n",
        "      print(c)\n",
        "else : \n",
        "    if b > c:\n",
        "      print (b)\n",
        "    else:\n",
        "      print(c)\n",
        "  "
      ],
      "execution_count": 13,
      "outputs": [
        {
          "output_type": "stream",
          "text": [
            "number1:1\n",
            "number2:2\n",
            "number3:3\n",
            "3\n"
          ],
          "name": "stdout"
        }
      ]
    },
    {
      "metadata": {
        "id": "aV2xMCR2mv9e",
        "colab_type": "code",
        "colab": {
          "autoexec": {
            "startup": false,
            "wait_interval": 0
          },
          "base_uri": "https://localhost:8080/",
          "height": 53
        },
        "outputId": "3b52516c-b7a6-45f7-9545-38aea214d20a",
        "executionInfo": {
          "status": "ok",
          "timestamp": 1525428712530,
          "user_tz": -540,
          "elapsed": 3121,
          "user": {
            "displayName": "박재림",
            "photoUrl": "https://lh3.googleusercontent.com/a/default-user=s128",
            "userId": "107675001875083793552"
          }
        }
      },
      "cell_type": "code",
      "source": [
        "#12\n",
        "money = input('입력 :')\n",
        "if '달러' in money :\n",
        "    print(int(money.split(' ')[0]) * 1167, '원')\n",
        "elif '엔' in money:\n",
        "    print(int(money.split(' ')[0]) * 1.096, '원')\n",
        "elif '유로' in money:\n",
        "    print(int(money.split(' ')[0]) * 1268, '원')\n",
        "elif '위안' in money:\n",
        "    print(int(money.split(' ')[0]) * 171, '원')\n",
        "    "
      ],
      "execution_count": 19,
      "outputs": [
        {
          "output_type": "stream",
          "text": [
            "입력 :4 위안\n",
            "684 원\n"
          ],
          "name": "stdout"
        }
      ]
    },
    {
      "metadata": {
        "id": "_SkaA_Lgos3F",
        "colab_type": "code",
        "colab": {
          "autoexec": {
            "startup": false,
            "wait_interval": 0
          },
          "base_uri": "https://localhost:8080/",
          "height": 53
        },
        "outputId": "92b1bf24-3361-44da-d020-d019a9626345",
        "executionInfo": {
          "status": "ok",
          "timestamp": 1525428996940,
          "user_tz": -540,
          "elapsed": 5618,
          "user": {
            "displayName": "박재림",
            "photoUrl": "https://lh3.googleusercontent.com/a/default-user=s128",
            "userId": "107675001875083793552"
          }
        }
      },
      "cell_type": "code",
      "source": [
        "#13\n",
        "환율 = {'달러' : 1167, '엔':1.096, '유로':1268,'위안':171}\n",
        "입금 = input('입금:')\n",
        "환전 = int(입금.split(' ')[0]) * 환율[입금.split(' ')[1]] \n",
        "print('환전:', 환전, '원')"
      ],
      "execution_count": 24,
      "outputs": [
        {
          "output_type": "stream",
          "text": [
            "입금:1000 엔\n",
            "환전: 1096.0 원\n"
          ],
          "name": "stdout"
        }
      ]
    },
    {
      "metadata": {
        "id": "Ba3dE4hypzUp",
        "colab_type": "code",
        "colab": {
          "autoexec": {
            "startup": false,
            "wait_interval": 0
          },
          "base_uri": "https://localhost:8080/",
          "height": 53
        },
        "outputId": "f283b7ee-8394-45da-92ec-32d724b6faad",
        "executionInfo": {
          "status": "ok",
          "timestamp": 1525429140968,
          "user_tz": -540,
          "elapsed": 4553,
          "user": {
            "displayName": "박재림",
            "photoUrl": "https://lh3.googleusercontent.com/a/default-user=s128",
            "userId": "107675001875083793552"
          }
        }
      },
      "cell_type": "code",
      "source": [
        "#15\n",
        "fruit = [\"사과\", \"포도\", \"홍시\"]\n",
        "favorite = input('제가 좋아하는 과일은 :')\n",
        "if favorite in fruit :\n",
        "  print('정답입니다!')\n",
        "else:\n",
        "  print('땡!')"
      ],
      "execution_count": 28,
      "outputs": [
        {
          "output_type": "stream",
          "text": [
            "제가 좋아하는 과일은 :코코넛\n",
            "땡!\n"
          ],
          "name": "stdout"
        }
      ]
    },
    {
      "metadata": {
        "id": "wAW9ic80qahB",
        "colab_type": "code",
        "colab": {
          "autoexec": {
            "startup": false,
            "wait_interval": 0
          },
          "base_uri": "https://localhost:8080/",
          "height": 53
        },
        "outputId": "0a7fdde9-543b-4153-f4c1-9f2be31ecdcc",
        "executionInfo": {
          "status": "ok",
          "timestamp": 1525430679972,
          "user_tz": -540,
          "elapsed": 2361,
          "user": {
            "displayName": "박재림",
            "photoUrl": "https://lh3.googleusercontent.com/a/default-user=s128",
            "userId": "107675001875083793552"
          }
        }
      },
      "cell_type": "code",
      "source": [
        "#24\n",
        "reg_num = input('주민등록번호:')\n",
        "\n",
        "sum = int(reg_num[0])*2 + int(reg_num[1])*3 + int(reg_num[2])*4 + int(reg_num[3])*5 + int(reg_num[4])*6+ int(reg_num[5])*7 +int(reg_num[7])*8 + int(reg_num[8])*9 + int(reg_num[9])*2 + int(reg_num[10])*3 + int(reg_num[11])*4+ int(reg_num[12])*5\n",
        "second = sum % 11\n",
        "third = 11-second\n",
        "\n",
        "if third == int(reg_num[13]) :\n",
        "    print('유효한 주민등록번호입니다.')\n",
        "else:\n",
        "    print('유효하지 않은 주민등록번호입니다.')"
      ],
      "execution_count": 68,
      "outputs": [
        {
          "output_type": "stream",
          "text": [
            "주민등록번호:821010-1635210\n",
            "유효하지 않은 주민등록번호입니다.\n"
          ],
          "name": "stdout"
        }
      ]
    }
  ]
}