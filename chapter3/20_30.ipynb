{
 "cells": [
  {
   "cell_type": "code",
   "execution_count": 5,
   "metadata": {},
   "outputs": [
    {
     "name": "stdout",
     "output_type": "stream",
     "text": [
      "입력값 : 240\n",
      "255\n"
     ]
    }
   ],
   "source": [
    "#20\n",
    "입력  = int(input(\"입력값 : \"))\n",
    "\n",
    "if 입력+20 > 256 :\n",
    "    print(int(\"255\"))\n",
    "else :\n",
    "    print(\"결과값 :\", 입력+20)"
   ]
  },
  {
   "cell_type": "code",
   "execution_count": 8,
   "metadata": {},
   "outputs": [
    {
     "name": "stdout",
     "output_type": "stream",
     "text": [
      "입력값 : 1\n",
      "0\n"
     ]
    }
   ],
   "source": [
    "#21\n",
    "입력  = int(input(\"입력값 : \"))\n",
    "\n",
    "if 입력-20 < 0 :\n",
    "    print(int(\"0\"))\n",
    "else :\n",
    "    print(\"결과값 :\", 입력-20)"
   ]
  },
  {
   "cell_type": "code",
   "execution_count": 8,
   "metadata": {},
   "outputs": [
    {
     "name": "stdout",
     "output_type": "stream",
     "text": [
      "주민등록번호 :821010-1635210\n",
      "남자\n"
     ]
    }
   ],
   "source": [
    "#22\n",
    "주민번호 = input(\"주민등록번호 :\")\n",
    "a=주민번호.split(\"-\")[1]\n",
    "if a[1][0] == '1' or '3' :\n",
    "    print(\"남자\")\n",
    "#a[1][0] = '2' or '4'\n",
    "else :\n",
    "    print(\"여자\")"
   ]
  },
  {
   "cell_type": "code",
   "execution_count": 9,
   "metadata": {},
   "outputs": [
    {
     "name": "stdout",
     "output_type": "stream",
     "text": [
      "주민등록번호 :821010-1635210\n",
      "서울입니다.\n"
     ]
    }
   ],
   "source": [
    "#23\n",
    "주민번호 = input(\"주민등록번호 :\")\n",
    "a=주민번호.split(\"-\")[1]\n",
    "if a[1][-3:-2] == '00' or '01' or '02' or '03' or '04' or '05' or '06' or '07' or '08' :\n",
    "    print(\"서울입니다.\")\n",
    "else:\n",
    "    print(\"서울이 아닙니다.\")\n"
   ]
  },
  {
   "cell_type": "code",
   "execution_count": 23,
   "metadata": {
    "scrolled": true
   },
   "outputs": [
    {
     "ename": "SyntaxError",
     "evalue": "invalid syntax (<ipython-input-23-7789c99d6dc1>, line 4)",
     "output_type": "error",
     "traceback": [
      "\u001b[0;36m  File \u001b[0;32m\"<ipython-input-23-7789c99d6dc1>\"\u001b[0;36m, line \u001b[0;32m4\u001b[0m\n\u001b[0;31m    print(a)\u001b[0m\n\u001b[0m        ^\u001b[0m\n\u001b[0;31mSyntaxError\u001b[0m\u001b[0;31m:\u001b[0m invalid syntax\n"
     ]
    }
   ],
   "source": [
    "#24 #틀림\n",
    "주민번호 = input(\"주민등록번호 :\")\n",
    "a=int(주민번호[0]*2)+int(주민번호[1]*3)+int(주민번호[2]*4) + int(주민번호[3]*5)+int(주민번호[4]*6) +int(주민번호[5]*7)+int(주민번호[7]*8) + int(주민번호[8]*9+int(주민번호[9]*2)+int(주민번호[10]*3)+int(주민번호[11]*4)+int(주민번호[12]*5)\n",
    "print(a)\n",
    "first = a % 11\n",
    "second = 11 - first\n",
    "if second == 4:\n",
    "      print(\"유효한 주민등록번호입니다.\")\n",
    "else :\n",
    "      print(\"유효하지 않은 주민등록번호입니다\")"
   ]
  },
  {
   "cell_type": "code",
   "execution_count": 29,
   "metadata": {},
   "outputs": [
    {
     "name": "stdout",
     "output_type": "stream",
     "text": [
      "휴대전화 번호 입력:011-123-4567\n",
      "['011', '123', '4567']\n",
      "당신은 SKT 사용자입니다.\n"
     ]
    }
   ],
   "source": [
    "#25\n",
    "폰번호 = input(\"휴대전화 번호 입력:\")\n",
    "리스트 = 폰번호.split(\"-\")\n",
    "print(리스트)\n",
    "if '011' in 리스트[0] :\n",
    "    print(\"당신은 SKT 사용자입니다.\")\n",
    "elif '016' in 리스트[0] :\n",
    "    print(\"당신은 KT 사용자입니다.\")\n",
    "elif '019' in 리스트[0] :\n",
    "    print(\"당신은 LG 사용자입니다.\")\n",
    "elif '010' in 리스트[0] :\n",
    "    print(\"알수없음\")"
   ]
  }
 ],
 "metadata": {
  "anaconda-cloud": {},
  "kernelspec": {
   "display_name": "Python 3",
   "language": "python",
   "name": "python3"
  }
 },
 "nbformat": 4,
 "nbformat_minor": 2
}
