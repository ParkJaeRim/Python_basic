{
 "cells": [
  {
   "cell_type": "code",
   "execution_count": 1,
   "metadata": {},
   "outputs": [
    {
     "name": "stdout",
     "output_type": "stream",
     "text": [
      "값:120\n",
      "False\n"
     ]
    }
   ],
   "source": [
    "#4\n",
    "a=int(input(\"값:\"))\n",
    "if a< 100:\n",
    "    print(\"true\")\n",
    "else:\n",
    "    print(False)"
   ]
  },
  {
   "cell_type": "code",
   "execution_count": 2,
   "metadata": {},
   "outputs": [
    {
     "name": "stdout",
     "output_type": "stream",
     "text": [
      "값:80\n",
      "True\n"
     ]
    }
   ],
   "source": [
    "a=int(input(\"값:\"))\n",
    "print(a<100)"
   ]
  },
  {
   "cell_type": "code",
   "execution_count": 3,
   "metadata": {},
   "outputs": [
    {
     "name": "stdout",
     "output_type": "stream",
     "text": [
      "문자열을 입력하세요:종료\n",
      "안녕히가세요\n"
     ]
    }
   ],
   "source": [
    "#7\n",
    "문자열= input(\"문자열을 입력하세요:\")\n",
    "if 문자열 == '종료':\n",
    "    print('안녕히가세요')\n",
    "else:\n",
    "    print('다시')"
   ]
  },
  {
   "cell_type": "code",
   "execution_count": 4,
   "metadata": {},
   "outputs": [
    {
     "name": "stdout",
     "output_type": "stream",
     "text": [
      "input number :17\n",
      "홀수\n"
     ]
    }
   ],
   "source": [
    "#8\n",
    "number = int(input(\"input number :\"))\n",
    "if number %2 == 0:\n",
    "    print(\"짝수\")\n",
    "else:\n",
    "    print(\"홀수\")"
   ]
  },
  {
   "cell_type": "code",
   "execution_count": 5,
   "metadata": {},
   "outputs": [
    {
     "name": "stdout",
     "output_type": "stream",
     "text": [
      "num1:5\n",
      "num2:8\n",
      "8\n"
     ]
    }
   ],
   "source": [
    "#9\n",
    "숫자1= int(input(\"num1:\"))\n",
    "숫자2= int(input(\"num2:\"))\n",
    "if 숫자1 > 숫자2:\n",
    "    print(숫자1)\n",
    "else:\n",
    "    print(숫자2)"
   ]
  },
  {
   "cell_type": "code",
   "execution_count": 6,
   "metadata": {},
   "outputs": [
    {
     "name": "stdout",
     "output_type": "stream",
     "text": [
      "num1:22\n",
      "num2:15\n",
      "num3:85\n",
      "85\n"
     ]
    }
   ],
   "source": [
    "#10 틀림\n",
    "숫자_1= int(input(\"num1:\"))\n",
    "숫자_2= int(input(\"num2:\"))\n",
    "숫자_3= int(input(\"num3:\"))\n",
    "\n",
    "if 숫자_1 > 숫자_2:\n",
    "    if 숫자_1 > 숫자_3:\n",
    "        print(숫자_1)\n",
    "    else:\n",
    "        print(숫자_3)\n",
    "        "
   ]
  },
  {
   "cell_type": "code",
   "execution_count": 7,
   "metadata": {},
   "outputs": [
    {
     "name": "stdout",
     "output_type": "stream",
     "text": [
      "score:44\n",
      "Your grade is C\n"
     ]
    }
   ],
   "source": [
    "#11\n",
    "score = int(input(\"score:\"))\n",
    "if 81 <= score <= 100 :\n",
    "    print(\"Your grade is A\")\n",
    "elif 61 <= score <= 80 :\n",
    "    print(\"Your grade is B\")\n",
    "elif 41 <= score <= 60 :\n",
    "    print(\"Your grade is C\")\n",
    "elif 21 <= score <= 40 :\n",
    "    print(\"Your grade is D\")\n",
    "else :\n",
    "    print(\"Your grade is F\")"
   ]
  },
  {
   "cell_type": "code",
   "execution_count": 8,
   "metadata": {},
   "outputs": [
    {
     "ename": "SyntaxError",
     "evalue": "unexpected EOF while parsing (<ipython-input-8-701826718ce0>, line 3)",
     "output_type": "error",
     "traceback": [
      "\u001b[0;36m  File \u001b[0;32m\"<ipython-input-8-701826718ce0>\"\u001b[0;36m, line \u001b[0;32m3\u001b[0m\n\u001b[0;31m    if ( money )\u001b[0m\n\u001b[0m                ^\u001b[0m\n\u001b[0;31mSyntaxError\u001b[0m\u001b[0;31m:\u001b[0m unexpected EOF while parsing\n"
     ]
    }
   ],
   "source": [
    "#12 틀림\n",
    "money = int(input(\"입력 : \")\n",
    "if ( money )\n"
   ]
  },
  {
   "cell_type": "code",
   "execution_count": 9,
   "metadata": {},
   "outputs": [],
   "source": [
    "#13 #틀림"
   ]
  },
  {
   "cell_type": "code",
   "execution_count": 10,
   "metadata": {},
   "outputs": [
    {
     "name": "stdout",
     "output_type": "stream",
     "text": [
      "입력:Python\n",
      "PYTHON\n"
     ]
    }
   ],
   "source": [
    "#14\n",
    "문자1=input(\"입력:\")\n",
    "if 문자1.isupper():\n",
    "    print(문자1.lower())\n",
    "else:\n",
    "    print(문자1.upper())\n",
    "    \n",
    "#중간에 섞여들어가는건 다시 생각해 볼 것 "
   ]
  },
  {
   "cell_type": "code",
   "execution_count": 11,
   "metadata": {},
   "outputs": [
    {
     "name": "stdout",
     "output_type": "stream",
     "text": [
      "좋아하는 과일은 : 바나나\n",
      "정답입니다.\n"
     ]
    }
   ],
   "source": [
    "#15 #틀림\n",
    "fruit = [\"사과\", \"포도\", \"홍시\"]\n",
    "favorite = input(\"좋아하는 과일은 : \")\n",
    "if favorite in fruit[0] or fruit[1] or fruit[2]:\n",
    "    print(\"정답입니다.\")\n",
    "else:\n",
    "    print(\"땡!\")"
   ]
  },
  {
   "cell_type": "code",
   "execution_count": 12,
   "metadata": {},
   "outputs": [
    {
     "name": "stdout",
     "output_type": "stream",
     "text": [
      "종목 입력:SK\n",
      "투자 경고 종목이 아닙니다.\n"
     ]
    }
   ],
   "source": [
    "#16\n",
    "warn_investment_list = [\"Microsoft\", \"Google\", \"Naver\", \"Kakao\", \"SAMSUNG\", \"LG\"]\n",
    "kinds=input(\"종목 입력:\")\n",
    "if kinds in warn_investment_list:\n",
    "    print(\"투자 경고 종목입니다.\")\n",
    "else:\n",
    "    print(\"투자 경고 종목이 아닙니다.\")"
   ]
  },
  {
   "cell_type": "code",
   "execution_count": 13,
   "metadata": {},
   "outputs": [
    {
     "name": "stdout",
     "output_type": "stream",
     "text": [
      "제가 좋아하는 계절은 :가을\n",
      "정답입니다.\n"
     ]
    }
   ],
   "source": [
    "#17\n",
    "fruit = {\"봄\" : \"딸기\", \"여름\" : \"토마토\", \"가을\" : \"사과\"}\n",
    "season = input(\"제가 좋아하는 계절은 :\")\n",
    "if season in fruit.keys() :\n",
    "    print(\"정답입니다.\")\n",
    "else :\n",
    "    print(\"오답입니다.\")"
   ]
  },
  {
   "cell_type": "code",
   "execution_count": 14,
   "metadata": {},
   "outputs": [
    {
     "name": "stdout",
     "output_type": "stream",
     "text": [
      "제가 좋아하는 계절은 :한라봉\n",
      "오답입니다.\n"
     ]
    }
   ],
   "source": [
    "#18\n",
    "fruit = {\"봄\" : \"딸기\", \"여름\" : \"토마토\", \"가을\" : \"사과\"}\n",
    "season = input(\"제가 좋아하는 계절은 :\")\n",
    "if season in fruit.values() :\n",
    "    print(\"정답입니다.\")\n",
    "else :\n",
    "    print(\"오답입니다.\")"
   ]
  }
 ],
 "metadata": {
  "anaconda-cloud": {},
  "kernelspec": {
   "display_name": "Python 3",
   "language": "python",
   "name": "python3"
  },
  "language_info": {
   "codemirror_mode": {
    "name": "ipython",
    "version": 3
   },
   "file_extension": ".py",
   "mimetype": "text/x-python",
   "name": "python",
   "nbconvert_exporter": "python",
   "pygments_lexer": "ipython3",
   "version": "3.5.2"
  }
 },
 "nbformat": 4,
 "nbformat_minor": 2
}
