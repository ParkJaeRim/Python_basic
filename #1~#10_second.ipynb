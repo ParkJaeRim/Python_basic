{
 "cells": [
  {
   "cell_type": "markdown",
   "metadata": {
    "colab_type": "text",
    "id": "pknPQhtkjAUL"
   },
   "source": [
    "2018-04-10 second exercise of \"초보자를 위한 파이썬 300제\" \\#1~#10\n",
    "\n",
    "wrong answer : \\#3,\\#6,\\#8,\n",
    "               \\#10(have to use %d!) "
   ]
  },
  {
   "cell_type": "code",
   "execution_count": 2,
   "metadata": {
    "colab": {
     "autoexec": {
      "startup": false,
      "wait_interval": 0
     },
     "base_uri": "https://localhost:8080/",
     "height": 35
    },
    "colab_type": "code",
    "collapsed": false,
    "executionInfo": {
     "elapsed": 664,
     "status": "ok",
     "timestamp": 1523345697800,
     "user": {
      "displayName": "박재림",
      "photoUrl": "https://lh3.googleusercontent.com/a/default-user=s128",
      "userId": "107675001875083793552"
     },
     "user_tz": -540
    },
    "id": "QvmWsPDueeLS",
    "outputId": "05189915-71ac-40c9-d77a-1ae9fcb37e5b"
   },
   "outputs": [
    {
     "name": "stdout",
     "output_type": "stream",
     "text": [
      "Hello World\n"
     ]
    }
   ],
   "source": [
    "print(\"Hello World\")"
   ]
  },
  {
   "cell_type": "code",
   "execution_count": 3,
   "metadata": {
    "colab": {
     "autoexec": {
      "startup": false,
      "wait_interval": 0
     },
     "base_uri": "https://localhost:8080/",
     "height": 35
    },
    "colab_type": "code",
    "collapsed": false,
    "executionInfo": {
     "elapsed": 563,
     "status": "ok",
     "timestamp": 1523345709739,
     "user": {
      "displayName": "박재림",
      "photoUrl": "https://lh3.googleusercontent.com/a/default-user=s128",
      "userId": "107675001875083793552"
     },
     "user_tz": -540
    },
    "id": "CbSd7z3deqdN",
    "outputId": "df497714-d814-4de9-9f1b-4acc407b912c"
   },
   "outputs": [
    {
     "name": "stdout",
     "output_type": "stream",
     "text": [
      "Mary's cosmetics\n"
     ]
    }
   ],
   "source": [
    "print(\"Mary's cosmetics\")"
   ]
  },
  {
   "cell_type": "code",
   "execution_count": 12,
   "metadata": {
    "colab": {
     "autoexec": {
      "startup": false,
      "wait_interval": 0
     },
     "base_uri": "https://localhost:8080/",
     "height": 136
    },
    "colab_type": "code",
    "collapsed": false,
    "executionInfo": {
     "elapsed": 629,
     "status": "error",
     "timestamp": 1523345824064,
     "user": {
      "displayName": "박재림",
      "photoUrl": "https://lh3.googleusercontent.com/a/default-user=s128",
      "userId": "107675001875083793552"
     },
     "user_tz": -540
    },
    "id": "ZZ8aDKYgetcE",
    "outputId": "7c085742-e24e-4d78-88ef-1b961a3b3a3b"
   },
   "outputs": [
    {
     "ename": "SyntaxError",
     "evalue": "ignored",
     "output_type": "error",
     "traceback": [
      "\u001b[0;36m  File \u001b[0;32m\"<ipython-input-12-2d76521ad404>\"\u001b[0;36m, line \u001b[0;32m1\u001b[0m\n\u001b[0;31m    print(\"3.141592\")%0.2f\u001b[0m\n\u001b[0m                         ^\u001b[0m\n\u001b[0;31mSyntaxError\u001b[0m\u001b[0;31m:\u001b[0m invalid syntax\n"
     ]
    }
   ],
   "source": [
    "print(\"3.141592\")%0.2f"
   ]
  },
  {
   "cell_type": "code",
   "execution_count": 26,
   "metadata": {
    "colab": {
     "autoexec": {
      "startup": false,
      "wait_interval": 0
     },
     "base_uri": "https://localhost:8080/",
     "height": 71
    },
    "colab_type": "code",
    "collapsed": false,
    "executionInfo": {
     "elapsed": 3688,
     "status": "ok",
     "timestamp": 1523346379677,
     "user": {
      "displayName": "박재림",
      "photoUrl": "https://lh3.googleusercontent.com/a/default-user=s128",
      "userId": "107675001875083793552"
     },
     "user_tz": -540
    },
    "id": "wPet6nfOfJTn",
    "outputId": "14be94ef-d6b3-467d-d2c9-8c7c5e3c2f03"
   },
   "outputs": [
    {
     "name": "stdout",
     "output_type": "stream",
     "text": [
      "first:3\n",
      "second:4\n",
      "sum: 7\n"
     ]
    }
   ],
   "source": [
    "a=int(input(\"first:\"))\n",
    "b=int(input(\"second:\"))\n",
    "print(\"sum:\", a+b)"
   ]
  },
  {
   "cell_type": "code",
   "execution_count": 20,
   "metadata": {
    "colab": {
     "autoexec": {
      "startup": false,
      "wait_interval": 0
     },
     "base_uri": "https://localhost:8080/",
     "height": 71
    },
    "colab_type": "code",
    "collapsed": false,
    "executionInfo": {
     "elapsed": 4661,
     "status": "ok",
     "timestamp": 1523346094855,
     "user": {
      "displayName": "박재림",
      "photoUrl": "https://lh3.googleusercontent.com/a/default-user=s128",
      "userId": "107675001875083793552"
     },
     "user_tz": -540
    },
    "id": "WAmwOV87ft10",
    "outputId": "8df7e9f4-cc79-4b75-c724-84281803bba3"
   },
   "outputs": [
    {
     "name": "stdout",
     "output_type": "stream",
     "text": [
      "text:hello\n",
      "repeat:4\n",
      "hellohellohellohello\n"
     ]
    }
   ],
   "source": [
    "text=input(\"text:\")\n",
    "repeat=int(input(\"repeat:\"))\n",
    "print(text*repeat)"
   ]
  },
  {
   "cell_type": "code",
   "execution_count": 21,
   "metadata": {
    "colab": {
     "autoexec": {
      "startup": false,
      "wait_interval": 0
     },
     "base_uri": "https://localhost:8080/",
     "height": 35
    },
    "colab_type": "code",
    "collapsed": false,
    "executionInfo": {
     "elapsed": 659,
     "status": "ok",
     "timestamp": 1523346130652,
     "user": {
      "displayName": "박재림",
      "photoUrl": "https://lh3.googleusercontent.com/a/default-user=s128",
      "userId": "107675001875083793552"
     },
     "user_tz": -540
    },
    "id": "B8mwfQd6gKZM",
    "outputId": "847538e2-3614-4c85-956e-bef192f86a28"
   },
   "outputs": [
    {
     "name": "stdout",
     "output_type": "stream",
     "text": [
      "firstsecond\n"
     ]
    }
   ],
   "source": [
    "print(\"first\",end='')\n",
    "print(\"second\")"
   ]
  },
  {
   "cell_type": "code",
   "execution_count": 24,
   "metadata": {
    "colab": {
     "autoexec": {
      "startup": false,
      "wait_interval": 0
     },
     "base_uri": "https://localhost:8080/",
     "height": 125
    },
    "colab_type": "code",
    "collapsed": false,
    "executionInfo": {
     "elapsed": 3701,
     "status": "ok",
     "timestamp": 1523346317933,
     "user": {
      "displayName": "박재림",
      "photoUrl": "https://lh3.googleusercontent.com/a/default-user=s128",
      "userId": "107675001875083793552"
     },
     "user_tz": -540
    },
    "id": "-BPKEIYPgULX",
    "outputId": "bd1d1df8-7367-42f6-9188-82b3f48557a1"
   },
   "outputs": [
    {
     "name": "stdout",
     "output_type": "stream",
     "text": [
      "first number:19\n",
      "second number:2\n",
      "add: 21\n",
      "sub: 17\n",
      "mul: 38\n",
      "div: 9.5\n"
     ]
    }
   ],
   "source": [
    "num1=int(input(\"first number:\"))\n",
    "num2=int(input(\"second number:\"))\n",
    "cal1=num1+num2\n",
    "print(\"add:\",cal1)\n",
    "cal2=num1-num2\n",
    "print(\"sub:\",cal2)\n",
    "cal3=num1*num2\n",
    "print(\"mul:\",cal3)\n",
    "cal4=num1/num2\n",
    "print(\"div:\",cal4)"
   ]
  },
  {
   "cell_type": "code",
   "execution_count": 30,
   "metadata": {
    "colab": {
     "autoexec": {
      "startup": false,
      "wait_interval": 0
     },
     "base_uri": "https://localhost:8080/",
     "height": 71
    },
    "colab_type": "code",
    "collapsed": false,
    "executionInfo": {
     "elapsed": 3971,
     "status": "ok",
     "timestamp": 1523346610782,
     "user": {
      "displayName": "박재림",
      "photoUrl": "https://lh3.googleusercontent.com/a/default-user=s128",
      "userId": "107675001875083793552"
     },
     "user_tz": -540
    },
    "id": "Jz-wfr6MhBG2",
    "outputId": "e0602034-b61d-4c5e-9b76-968ee3e0b3d6"
   },
   "outputs": [
    {
     "name": "stdout",
     "output_type": "stream",
     "text": [
      "base:3\n",
      "top:2\n",
      "square: 9\n"
     ]
    }
   ],
   "source": [
    "base=int(input(\"base:\"))\n",
    "top=int(input(\"top:\"))\n",
    "print(\"square:\", base**top)"
   ]
  },
  {
   "cell_type": "code",
   "execution_count": 0,
   "metadata": {
    "colab": {
     "autoexec": {
      "startup": false,
      "wait_interval": 0
     }
    },
    "colab_type": "code",
    "collapsed": true,
    "id": "wMzL1l18iIju"
   },
   "outputs": [],
   "source": []
  },
  {
   "cell_type": "code",
   "execution_count": 0,
   "metadata": {
    "colab": {
     "autoexec": {
      "startup": false,
      "wait_interval": 0
     }
    },
    "colab_type": "code",
    "collapsed": true,
    "id": "oZsh3EjGhlk4"
   },
   "outputs": [],
   "source": []
  },
  {
   "cell_type": "code",
   "execution_count": 0,
   "metadata": {
    "colab": {
     "autoexec": {
      "startup": false,
      "wait_interval": 0
     }
    },
    "colab_type": "code",
    "collapsed": true,
    "id": "VA6fFt2HhjY8"
   },
   "outputs": [],
   "source": []
  },
  {
   "cell_type": "code",
   "execution_count": 0,
   "metadata": {
    "colab": {
     "autoexec": {
      "startup": false,
      "wait_interval": 0
     }
    },
    "colab_type": "code",
    "collapsed": true,
    "id": "MHN7FqJthhot"
   },
   "outputs": [],
   "source": []
  },
  {
   "cell_type": "code",
   "execution_count": 0,
   "metadata": {
    "colab": {
     "autoexec": {
      "startup": false,
      "wait_interval": 0
     }
    },
    "colab_type": "code",
    "collapsed": true,
    "id": "Jsw4n7lMhfnA"
   },
   "outputs": [],
   "source": []
  },
  {
   "cell_type": "code",
   "execution_count": 0,
   "metadata": {
    "colab": {
     "autoexec": {
      "startup": false,
      "wait_interval": 0
     }
    },
    "colab_type": "code",
    "collapsed": true,
    "id": "GtfRln1yg_XS"
   },
   "outputs": [],
   "source": []
  },
  {
   "cell_type": "code",
   "execution_count": 0,
   "metadata": {
    "colab": {
     "autoexec": {
      "startup": false,
      "wait_interval": 0
     }
    },
    "colab_type": "code",
    "collapsed": true,
    "id": "SEWVhfP_gxes"
   },
   "outputs": [],
   "source": []
  },
  {
   "cell_type": "code",
   "execution_count": 0,
   "metadata": {
    "colab": {
     "autoexec": {
      "startup": false,
      "wait_interval": 0
     }
    },
    "colab_type": "code",
    "collapsed": true,
    "id": "ovbIGROAgVhH"
   },
   "outputs": [],
   "source": []
  },
  {
   "cell_type": "code",
   "execution_count": 0,
   "metadata": {
    "colab": {
     "autoexec": {
      "startup": false,
      "wait_interval": 0
     }
    },
    "colab_type": "code",
    "collapsed": true,
    "id": "f_SH5sZHgFA4"
   },
   "outputs": [],
   "source": []
  },
  {
   "cell_type": "code",
   "execution_count": 0,
   "metadata": {
    "colab": {
     "autoexec": {
      "startup": false,
      "wait_interval": 0
     }
    },
    "colab_type": "code",
    "collapsed": true,
    "id": "AJV2COF-fney"
   },
   "outputs": [],
   "source": []
  },
  {
   "cell_type": "code",
   "execution_count": 0,
   "metadata": {
    "colab": {
     "autoexec": {
      "startup": false,
      "wait_interval": 0
     }
    },
    "colab_type": "code",
    "collapsed": true,
    "id": "puJs_6YdfkjC"
   },
   "outputs": [],
   "source": []
  },
  {
   "cell_type": "code",
   "execution_count": 0,
   "metadata": {
    "colab": {
     "autoexec": {
      "startup": false,
      "wait_interval": 0
     }
    },
    "colab_type": "code",
    "collapsed": true,
    "id": "OMTLpKrRgV26"
   },
   "outputs": [],
   "source": []
  },
  {
   "cell_type": "code",
   "execution_count": 0,
   "metadata": {
    "colab": {
     "autoexec": {
      "startup": false,
      "wait_interval": 0
     }
    },
    "colab_type": "code",
    "collapsed": true,
    "id": "-9g1n-Y0fhFo"
   },
   "outputs": [],
   "source": []
  },
  {
   "cell_type": "code",
   "execution_count": 0,
   "metadata": {
    "colab": {
     "autoexec": {
      "startup": false,
      "wait_interval": 0
     }
    },
    "colab_type": "code",
    "collapsed": true,
    "id": "24WTTP1Dfdm-"
   },
   "outputs": [],
   "source": []
  },
  {
   "cell_type": "code",
   "execution_count": 0,
   "metadata": {
    "colab": {
     "autoexec": {
      "startup": false,
      "wait_interval": 0
     }
    },
    "colab_type": "code",
    "collapsed": true,
    "id": "43z0p87EfVqN"
   },
   "outputs": [],
   "source": []
  },
  {
   "cell_type": "code",
   "execution_count": 0,
   "metadata": {
    "colab": {
     "autoexec": {
      "startup": false,
      "wait_interval": 0
     }
    },
    "colab_type": "code",
    "collapsed": true,
    "id": "cARRvCPEfICN"
   },
   "outputs": [],
   "source": []
  },
  {
   "cell_type": "code",
   "execution_count": 0,
   "metadata": {
    "colab": {
     "autoexec": {
      "startup": false,
      "wait_interval": 0
     }
    },
    "colab_type": "code",
    "collapsed": true,
    "id": "fmVKzAZ5fDf4"
   },
   "outputs": [],
   "source": []
  },
  {
   "cell_type": "code",
   "execution_count": 0,
   "metadata": {
    "colab": {
     "autoexec": {
      "startup": false,
      "wait_interval": 0
     }
    },
    "colab_type": "code",
    "collapsed": true,
    "id": "9-EdYTgxfB_6"
   },
   "outputs": [],
   "source": []
  },
  {
   "cell_type": "code",
   "execution_count": 0,
   "metadata": {
    "colab": {
     "autoexec": {
      "startup": false,
      "wait_interval": 0
     }
    },
    "colab_type": "code",
    "collapsed": true,
    "id": "p1S1AXkhfATx"
   },
   "outputs": [],
   "source": []
  },
  {
   "cell_type": "code",
   "execution_count": 0,
   "metadata": {
    "colab": {
     "autoexec": {
      "startup": false,
      "wait_interval": 0
     }
    },
    "colab_type": "code",
    "collapsed": true,
    "id": "Tk8L2G1_e8ug"
   },
   "outputs": [],
   "source": []
  },
  {
   "cell_type": "code",
   "execution_count": 0,
   "metadata": {
    "colab": {
     "autoexec": {
      "startup": false,
      "wait_interval": 0
     }
    },
    "colab_type": "code",
    "collapsed": true,
    "id": "UPX8FZqme525"
   },
   "outputs": [],
   "source": []
  },
  {
   "cell_type": "code",
   "execution_count": 0,
   "metadata": {
    "colab": {
     "autoexec": {
      "startup": false,
      "wait_interval": 0
     }
    },
    "colab_type": "code",
    "collapsed": true,
    "id": "W9AhGj_Ce3Zq"
   },
   "outputs": [],
   "source": []
  },
  {
   "cell_type": "code",
   "execution_count": 0,
   "metadata": {
    "colab": {
     "autoexec": {
      "startup": false,
      "wait_interval": 0
     }
    },
    "colab_type": "code",
    "collapsed": true,
    "id": "XrXwKDade1nW"
   },
   "outputs": [],
   "source": []
  },
  {
   "cell_type": "code",
   "execution_count": 0,
   "metadata": {
    "colab": {
     "autoexec": {
      "startup": false,
      "wait_interval": 0
     }
    },
    "colab_type": "code",
    "collapsed": true,
    "id": "2WXIxvpQekMV"
   },
   "outputs": [],
   "source": []
  },
  {
   "cell_type": "markdown",
   "metadata": {
    "colab_type": "text",
    "id": "nEkVMrrJegbl"
   },
   "source": []
  }
 ],
 "metadata": {
  "colab": {
   "default_view": {},
   "name": "Untitled0.ipynb",
   "provenance": [],
   "version": "0.3.2",
   "views": {}
  },
  "kernelspec": {
   "display_name": "Python 3",
   "language": "python",
   "name": "python3"
  },
  "language_info": {
   "codemirror_mode": {
    "name": "ipython",
    "version": 3
   },
   "file_extension": ".py",
   "mimetype": "text/x-python",
   "name": "python",
   "nbconvert_exporter": "python",
   "pygments_lexer": "ipython3",
   "version": "3.6.3"
  }
 },
 "nbformat": 4,
 "nbformat_minor": 0
}
